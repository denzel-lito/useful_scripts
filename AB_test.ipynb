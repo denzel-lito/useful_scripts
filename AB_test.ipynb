{
 "cells": [
  {
   "cell_type": "code",
   "execution_count": 79,
   "metadata": {
    "ExecuteTime": {
     "end_time": "2023-03-03T14:46:03.849903Z",
     "start_time": "2023-03-03T14:46:03.218707Z"
    },
    "code_folding": [
     14
    ]
   },
   "outputs": [],
   "source": [
    "import pandas as pd\n",
    "import numpy as np\n",
    "from tqdm import tqdm,trange\n",
    "import seaborn as sns\n",
    "import matplotlib.pyplot as plt\n",
    "\n",
    "from statsmodels.stats.power import  tt_ind_solve_power\n",
    "from scipy.interpolate import interp1d\n",
    "\n",
    "import statsmodels.stats.proportion as proportion\n",
    "import bootstrapped.bootstrap as bs\n",
    "import bootstrapped.stats_functions as bs_stats\n",
    "import bootstrapped.compare_functions as bs_compare\n",
    "import statsmodels.stats.power as smp\n",
    "\n",
    "from IPython.display import clear_output\n",
    "def test_ttest_power_diff(mean, std, sample1_size=None, alpha=0.05, desired_power=0.8, mean_diff_percentages=[0.1, 0.05], alternative='two-sided'):\n",
    "    '''\n",
    "    calculates the power function for a given mean and std. the function plots a graph showing the comparison between desired mean differences\n",
    "    :param mean: the desired mean\n",
    "    :param std: the std value\n",
    "    :param sample1_size: if None, it is assumed that both samples (first and second) will have same size. The function then will\n",
    "    walk through possible sample sizes (up to 100, hardcoded).\n",
    "    If this value is not None, the function will check different alternatives for sample 2 sizes up to sample 1 size.\n",
    "    :param alpha: alpha default value is 0.05\n",
    "    :param desired_power: will use this value in order to mark on the graph\n",
    "    :param mean_diff_percentages: iterable list of percentages. A line per value will be calculated and plotted.\n",
    "    :return: None\n",
    "    '''\n",
    "    fig, ax = plt.subplots(figsize=(20,8))\n",
    "    for mean_diff_percent in mean_diff_percentages:\n",
    "        mean_diff = mean_diff_percent * mean\n",
    "        effect_size = mean_diff / std\n",
    "\n",
    "        print('Mean diff: ', mean_diff)\n",
    "        print('Effect size: ', effect_size)\n",
    "\n",
    "        powers = []\n",
    "\n",
    "        max_size  = sample1_size\n",
    "        if sample1_size is None:\n",
    "            max_size = 100\n",
    "\n",
    "        sizes = np.arange(1, max_size, 2)\n",
    "        for sample2_size in tqdm(sizes):\n",
    "            if(sample1_size is None):\n",
    "                n = tt_ind_solve_power(effect_size=effect_size, nobs1=sample2_size, alpha=alpha, ratio=1.0, alternative=alternative)\n",
    "                #print('tt_ind_solve_power(alpha=', alpha, 'sample2_size=', sample2_size, '): sample size in *second* group: {:.5f}'.format(n))\n",
    "            else:\n",
    "                n = tt_ind_solve_power(effect_size=effect_size, nobs1=sample1_size, alpha=alpha, ratio=(1.0*sample2_size/sample1_size), alternative=alternative)\n",
    "                #print('tt_ind_solve_power(alpha=', alpha, 'sample2_size=', sample2_size, '): sample size *each* group: {:.5f}'.format(n))\n",
    "\n",
    "            powers.append(n)\n",
    "\n",
    "        try: # mark the desired power on the graph\n",
    "            z1 = interp1d(powers, sizes)\n",
    "            results = z1(desired_power)\n",
    "\n",
    "            clear_output()\n",
    "            plt.plot([results], [desired_power], 'gD')\n",
    "        except Exception as e:\n",
    "            print(\"Error: \", e)\n",
    "            #ignore\n",
    "\n",
    "        plt.title('Power vs. Sample Size')\n",
    "        plt.xlabel('Sample Size')\n",
    "        plt.ylabel('Power')\n",
    "\n",
    "        plt.plot(sizes, powers, label='diff={:2.0f}%'.format(100*mean_diff_percent))\n",
    "\n",
    "    plt.grid()\n",
    "    plt.legend()\n",
    "    plt.show()"
   ]
  },
  {
   "cell_type": "markdown",
   "metadata": {},
   "source": [
    "# данные"
   ]
  },
  {
   "cell_type": "code",
   "execution_count": 6,
   "metadata": {
    "ExecuteTime": {
     "end_time": "2023-03-02T07:47:13.187871Z",
     "start_time": "2023-03-02T07:47:13.172765Z"
    }
   },
   "outputs": [
    {
     "data": {
      "text/html": [
       "<div>\n",
       "<style scoped>\n",
       "    .dataframe tbody tr th:only-of-type {\n",
       "        vertical-align: middle;\n",
       "    }\n",
       "\n",
       "    .dataframe tbody tr th {\n",
       "        vertical-align: top;\n",
       "    }\n",
       "\n",
       "    .dataframe thead th {\n",
       "        text-align: right;\n",
       "    }\n",
       "</style>\n",
       "<table border=\"1\" class=\"dataframe\">\n",
       "  <thead>\n",
       "    <tr style=\"text-align: right;\">\n",
       "      <th></th>\n",
       "      <th>report_dt</th>\n",
       "      <th>pnl</th>\n",
       "    </tr>\n",
       "  </thead>\n",
       "  <tbody>\n",
       "    <tr>\n",
       "      <th>0</th>\n",
       "      <td>2022-01-31</td>\n",
       "      <td>24239.720640</td>\n",
       "    </tr>\n",
       "    <tr>\n",
       "      <th>1</th>\n",
       "      <td>2022-02-28</td>\n",
       "      <td>32206.225298</td>\n",
       "    </tr>\n",
       "    <tr>\n",
       "      <th>2</th>\n",
       "      <td>2022-03-31</td>\n",
       "      <td>75398.869019</td>\n",
       "    </tr>\n",
       "    <tr>\n",
       "      <th>3</th>\n",
       "      <td>2022-04-30</td>\n",
       "      <td>31987.626818</td>\n",
       "    </tr>\n",
       "    <tr>\n",
       "      <th>4</th>\n",
       "      <td>2022-05-31</td>\n",
       "      <td>30030.557276</td>\n",
       "    </tr>\n",
       "    <tr>\n",
       "      <th>5</th>\n",
       "      <td>2022-06-30</td>\n",
       "      <td>42705.892979</td>\n",
       "    </tr>\n",
       "    <tr>\n",
       "      <th>6</th>\n",
       "      <td>2022-07-31</td>\n",
       "      <td>41861.254020</td>\n",
       "    </tr>\n",
       "    <tr>\n",
       "      <th>7</th>\n",
       "      <td>2022-08-31</td>\n",
       "      <td>32131.579967</td>\n",
       "    </tr>\n",
       "    <tr>\n",
       "      <th>8</th>\n",
       "      <td>2022-09-30</td>\n",
       "      <td>33527.858703</td>\n",
       "    </tr>\n",
       "    <tr>\n",
       "      <th>9</th>\n",
       "      <td>2022-10-31</td>\n",
       "      <td>32812.192752</td>\n",
       "    </tr>\n",
       "    <tr>\n",
       "      <th>10</th>\n",
       "      <td>2022-11-30</td>\n",
       "      <td>31669.459546</td>\n",
       "    </tr>\n",
       "    <tr>\n",
       "      <th>11</th>\n",
       "      <td>2022-12-31</td>\n",
       "      <td>31417.366505</td>\n",
       "    </tr>\n",
       "  </tbody>\n",
       "</table>\n",
       "</div>"
      ],
      "text/plain": [
       "     report_dt           pnl\n",
       "0   2022-01-31  24239.720640\n",
       "1   2022-02-28  32206.225298\n",
       "2   2022-03-31  75398.869019\n",
       "3   2022-04-30  31987.626818\n",
       "4   2022-05-31  30030.557276\n",
       "5   2022-06-30  42705.892979\n",
       "6   2022-07-31  41861.254020\n",
       "7   2022-08-31  32131.579967\n",
       "8   2022-09-30  33527.858703\n",
       "9   2022-10-31  32812.192752\n",
       "10  2022-11-30  31669.459546\n",
       "11  2022-12-31  31417.366505"
      ]
     },
     "execution_count": 6,
     "metadata": {},
     "output_type": "execute_result"
    }
   ],
   "source": [
    "df_1 = pd.DataFrame({\n",
    "    'report_dt': ['2022-01-31','2022-02-28','2022-03-31','2022-04-30','2022-05-31','2022-06-30','2022-07-31','2022-08-31','2022-09-30','2022-10-31','2022-11-30','2022-12-31'],\n",
    "    'pnl': [24239.720640,32206.225298,75398.869019,31987.626818,30030.557276,42705.892979,41861.254020,32131.579967,33527.858703,32812.192752,31669.459546,31417.366505]\n",
    "})\n",
    "df_1 = df_1[['report_dt', 'pnl']]\n",
    "\n",
    "df_1"
   ]
  },
  {
   "cell_type": "code",
   "execution_count": 43,
   "metadata": {
    "ExecuteTime": {
     "end_time": "2023-03-02T08:16:24.013765Z",
     "start_time": "2023-03-02T08:16:24.001021Z"
    }
   },
   "outputs": [
    {
     "data": {
      "text/html": [
       "<div>\n",
       "<style scoped>\n",
       "    .dataframe tbody tr th:only-of-type {\n",
       "        vertical-align: middle;\n",
       "    }\n",
       "\n",
       "    .dataframe tbody tr th {\n",
       "        vertical-align: top;\n",
       "    }\n",
       "\n",
       "    .dataframe thead th {\n",
       "        text-align: right;\n",
       "    }\n",
       "</style>\n",
       "<table border=\"1\" class=\"dataframe\">\n",
       "  <thead>\n",
       "    <tr style=\"text-align: right;\">\n",
       "      <th></th>\n",
       "      <th>camp_group_fact</th>\n",
       "      <th>client_count</th>\n",
       "      <th>flg_potreb</th>\n",
       "      <th>potreb_rate</th>\n",
       "    </tr>\n",
       "  </thead>\n",
       "  <tbody>\n",
       "    <tr>\n",
       "      <th>0</th>\n",
       "      <td>model</td>\n",
       "      <td>2970</td>\n",
       "      <td>522</td>\n",
       "      <td>0.175758</td>\n",
       "    </tr>\n",
       "    <tr>\n",
       "      <th>1</th>\n",
       "      <td>model+sms</td>\n",
       "      <td>9687</td>\n",
       "      <td>1002</td>\n",
       "      <td>0.103438</td>\n",
       "    </tr>\n",
       "    <tr>\n",
       "      <th>2</th>\n",
       "      <td>nth</td>\n",
       "      <td>5900</td>\n",
       "      <td>43</td>\n",
       "      <td>0.007288</td>\n",
       "    </tr>\n",
       "    <tr>\n",
       "      <th>3</th>\n",
       "      <td>sms</td>\n",
       "      <td>22626</td>\n",
       "      <td>59</td>\n",
       "      <td>0.002608</td>\n",
       "    </tr>\n",
       "    <tr>\n",
       "      <th>4</th>\n",
       "      <td>total</td>\n",
       "      <td>41183</td>\n",
       "      <td>1626</td>\n",
       "      <td>0.039482</td>\n",
       "    </tr>\n",
       "  </tbody>\n",
       "</table>\n",
       "</div>"
      ],
      "text/plain": [
       "  camp_group_fact  client_count  flg_potreb  potreb_rate\n",
       "0           model          2970         522     0.175758\n",
       "1       model+sms          9687        1002     0.103438\n",
       "2             nth          5900          43     0.007288\n",
       "3             sms         22626          59     0.002608\n",
       "4           total         41183        1626     0.039482"
      ]
     },
     "execution_count": 43,
     "metadata": {},
     "output_type": "execute_result"
    }
   ],
   "source": [
    "df_2 = pd.DataFrame({\n",
    "'camp_group_fact': ['model', 'model+sms', 'nth', 'sms', 'total'],\n",
    "'client_count': [2970, 9687, 5900, 22626, 41183],\n",
    "'flg_potreb': [522, 1002, 43, 59, 1626], \n",
    "'potreb_rate': [0.175758, 0.103438, 0.007288, 0.002608, 0.039482]\n",
    "})\n",
    "\n",
    "df_2"
   ]
  },
  {
   "cell_type": "code",
   "execution_count": 83,
   "metadata": {
    "ExecuteTime": {
     "end_time": "2023-03-03T14:47:00.210329Z",
     "start_time": "2023-03-03T14:47:00.206047Z"
    }
   },
   "outputs": [
    {
     "name": "stdout",
     "output_type": "stream",
     "text": [
      "(41183, 5)\n"
     ]
    }
   ],
   "source": [
    "print(df_merged.shape)"
   ]
  },
  {
   "cell_type": "markdown",
   "metadata": {},
   "source": [
    "# определение размера КГ"
   ]
  },
  {
   "cell_type": "code",
   "execution_count": 69,
   "metadata": {
    "ExecuteTime": {
     "end_time": "2023-03-03T14:14:10.878242Z",
     "start_time": "2023-03-03T14:14:10.205249Z"
    },
    "scrolled": false
   },
   "outputs": [
    {
     "data": {
      "image/png": "[encoded data removed]",
      "text/plain": [
       "<Figure size 1440x576 with 1 Axes>"
      ]
     },
     "metadata": {},
     "output_type": "display_data"
    }
   ],
   "source": [
    "test_ttest_power_diff(df_1.iloc[-6:].mean().iloc[0],\n",
    "                      df_1.iloc[-6:].std().iloc[0], \n",
    "                      sample1_size=1000, \n",
    "                      alpha=0.05, \n",
    "                      desired_power=0.8, \n",
    "                      mean_diff_percentages=[0.01, 0.05], \n",
    "                      alternative='larger')"
   ]
  },
  {
   "cell_type": "markdown",
   "metadata": {},
   "source": [
    "# выделение тестовой группы\n",
    "##### A: cg_size, B: (1 - cg_size)"
   ]
  },
  {
   "cell_type": "code",
   "execution_count": null,
   "metadata": {},
   "outputs": [],
   "source": [
    "np.random.seed(5)\n",
    "\n",
    "cg_size = 0.15\n",
    "\n",
    "# установление интервалов по отобранным фичам\n",
    "blnc = []\n",
    "pos = []\n",
    "inc = []\n",
    "age = []\n",
    "gender = df_sb1.gender.unique().tolist()\n",
    "tb = df_model[~df_model.tb_name.isnull()].tb_name.unique().tolist()\n",
    "\n",
    "for i in [0, .2, .4, .6, .8, 1]: # [0, .25, .5, .75, 1]\n",
    "    blnc.append(df_model.tot_amt.quantile(i))\n",
    "    pos.append(df_model.pos_avg_3m_amt.quantile(i))\n",
    "    inc.append(df_model.inc_avg_amt.quantile(i))\n",
    "    age.append(df_model.age.quantile(i))\n",
    "    \n",
    "# проход по карманам и выделение A/B групп\n",
    "df_A = pd.DataFrame(columns=df_model.columns)\n",
    "df_B = pd.DataFrame(columns=df_model.columns)\n",
    "df_cur = df_model.copy()\n",
    "\n",
    "for b_i in tqdm(range(len(blnc)-1)):\n",
    "    for p_i in range(len(pos)-1):\n",
    "        for inc_i in range(len(inc)-1):\n",
    "            for a_i in range(len(age)-1):\n",
    "                for gnd_i in ['M', 'F']:\n",
    "                #for tb_i in tb:\n",
    "                    index = df_cur[   ((blnc[b_i]<=df_cur.tot_amt) & (df_cur.tot_amt<=blnc[b_i+1]) | df_cur.tot_amt.isnull())\n",
    "                                    & ((pos[p_i]<=df_cur.pos_avg_3m_amt) & (df_cur.pos_avg_3m_amt<=pos[p_i+1]) | df_cur.pos_avg_3m_amt.isnull())\n",
    "                                    & ((inc[inc_i]<=df_cur.inc_avg_amt) & (df_cur.inc_avg_amt<=inc[inc_i+1]) | df_cur.inc_avg_amt.isnull())\n",
    "                                    & ((age[a_i]<=df_cur.age) & (df_cur.age<=age[a_i+1]) | df_cur.age.isnull())\n",
    "                                    & ((df_cur.gender==gnd_i) | df_cur.gender.isnull())\n",
    "                                    #& ((df_cur.tb_name==tb_i) | df_cur.tb_name.isnull())\n",
    "                                  ].index\n",
    "                    \n",
    "                    ind_new = df_cur.loc[index][~df_cur.epk_id.isin(df_campaign.epk_id.unique())].index\n",
    "                    a_1 = np.random.choice(ind_new, int(round(len(index)*cg_size,0)), replace=False) #int(len(index)/2)\n",
    "                    \n",
    "                    #a_1 = np.random.choice(index, int(round(len(index)*0.15,0)), replace=False) #int(len(index)/2)\n",
    "                    a_2 = list(set(index) - set(a_1))\n",
    "\n",
    "                    df_A = pd.concat([df_A, df_cur.loc[a_1]])\n",
    "                    df_B = pd.concat([df_B, df_cur.loc[a_2]])\n",
    "\n",
    "                    df_cur = df_cur.loc[set(df_cur.index) - set(index)]\n",
    "del(df_cur)"
   ]
  },
  {
   "cell_type": "code",
   "execution_count": null,
   "metadata": {},
   "outputs": [],
   "source": [
    "for col in ['tot_amt', 'pos_avg_3m_amt', 'inc_avg_amt', 'age']:\n",
    "    sns.distplot(df_A[df_A[col] <= df_A[col].quantile(0.99)][col], bins = 20)\n",
    "    sns.distplot(df_B[df_B[col] <= df_B[col].quantile(0.99)][col], bins = 20)\n",
    "    plt.show()"
   ]
  },
  {
   "cell_type": "markdown",
   "metadata": {
    "ExecuteTime": {
     "end_time": "2023-03-02T07:48:30.298459Z",
     "start_time": "2023-03-02T07:48:30.291110Z"
    }
   },
   "source": [
    "# проверка стат-значимости"
   ]
  },
  {
   "cell_type": "markdown",
   "metadata": {
    "ExecuteTime": {
     "end_time": "2023-03-02T07:48:30.298459Z",
     "start_time": "2023-03-02T07:48:30.291110Z"
    }
   },
   "source": [
    "H0: open_rate в двух группах равны\n",
    "H1: open_rate в группе без коммуникации выше\n",
    "\n",
    "Ошибка I рода: отвергнута правильная H0\n",
    "\n",
    "статистический критерий: отклоняет H0, или не отклоняет H0\n",
    "\n",
    "H0 - средние в двух группах равны\n",
    "H1 - среднее в группу \"В\" выше, чем в группе \"А\"\n",
    "\n",
    "статистическая значимость - мера уверенности в том, что результат не является случайным (обычно берется 5% или 1%)\n",
    "p-value - вероятность получения результатов, по крайней мере, столь же экстремальных, как наблюдаемые результаты проверки статистической гипотезы, при условии, что нулевая гипотеза верка\n",
    "p-value - вероятность получить тот датасет с данными, который мы получили, если нулевая гипотеза верна\n",
    "\n",
    "p-value < уровень значимости → разница существует\n",
    "p-value > уровень значимости → нет оснований для отклонения H0\n",
    "\n",
    "t-test - проверка равенства средних между группами\n",
    "\n",
    "конверсия - биномиальная метрика (1,0)\n",
    "\n",
    "Хи-квадрат\n",
    "\n",
    "Bootstrap\n",
    "Если 0 попадает в доверительный интервал, разница незначима.\n",
    "Bootstrap-распределение разниц средней суммы потреба.\n",
    "\n",
    "Мощность теста - вероятность правильного отклонения нулевой гипотезы, если она ложна.\n",
    "Мощность теста - вероятность увидеть различия там, где они действительно есть.\n",
    "\n",
    "Низкая мощность → будем получать, что разницы нет, хотя она там есть.\n",
    "\n",
    "Обычно берется 80%+"
   ]
  },
  {
   "cell_type": "markdown",
   "metadata": {},
   "source": [
    "##### Сравнение доли открытых кредитов\n",
    "доля является биномиальной метрикой, поэтому использую критерий Хи-квадрат <br>\n",
    "H0: доли в двух группах равны  <br>\n",
    "p-value = 3.1458642512892177e-26 (<0.05) → H0 отвергаем, разница в двух группах существует (стат. Значима)\n",
    "##### Сравнение средней суммы кредитов\n",
    "использую методологию Bootstrap: <br>\n",
    "95% доверительный интервал находится левее нулевого значение → обнаружена стат. значимая разница в средней сумме кредита"
   ]
  },
  {
   "cell_type": "markdown",
   "metadata": {},
   "source": [
    "##### Xи-квадрат"
   ]
  },
  {
   "cell_type": "code",
   "execution_count": 45,
   "metadata": {
    "ExecuteTime": {
     "end_time": "2023-03-02T08:16:31.010338Z",
     "start_time": "2023-03-02T08:16:31.002266Z"
    }
   },
   "outputs": [
    {
     "name": "stdout",
     "output_type": "stream",
     "text": [
      "p-value =  3.1458642512892177e-26\n",
      "True\n"
     ]
    }
   ],
   "source": [
    "alpha = 0.05\n",
    "\n",
    "chi2stat, pval, table = proportion.proportions_chisquare(df_2.loc[0:1, 'flg_potreb'], df_2.loc[0:1, 'client_count'] )\n",
    "print('p-value = ', pval)\n",
    "print(pval < alpha)"
   ]
  },
  {
   "cell_type": "code",
   "execution_count": 31,
   "metadata": {
    "ExecuteTime": {
     "end_time": "2023-03-02T08:12:35.327479Z",
     "start_time": "2023-03-02T08:12:35.316575Z"
    }
   },
   "outputs": [
    {
     "name": "stdout",
     "output_type": "stream",
     "text": [
      "p-value =  8.132864119028138e-08\n",
      "True\n"
     ]
    }
   ],
   "source": [
    "alpha = 0.05\n",
    "\n",
    "chi2stat, pval, table = proportion.proportions_chisquare(df_2.loc[2:3, 'flg_potreb'], df_2.loc[2:3, 'client_count'] )\n",
    "print('p-value = ', pval)\n",
    "print(pval < alpha)"
   ]
  },
  {
   "cell_type": "markdown",
   "metadata": {},
   "source": [
    "##### Bootstrap"
   ]
  },
  {
   "cell_type": "code",
   "execution_count": 81,
   "metadata": {
    "ExecuteTime": {
     "end_time": "2023-03-03T14:46:18.528588Z",
     "start_time": "2023-03-03T14:46:15.475118Z"
    }
   },
   "outputs": [
    {
     "name": "stderr",
     "output_type": "stream",
     "text": [
      "/opt/cloudera/parcels/PYENV.ZNO0059623792/lib/python3.5/site-packages/scipy/stats/stats.py:1713: FutureWarning: Using a non-tuple sequence for multidimensional indexing is deprecated; use `arr[tuple(seq)]` instead of `arr[seq]`. In the future this will be interpreted as an array index, `arr[np.array(seq)]`, which will result either in an error or a different result.\n",
      "  return np.add.reduce(sorted[indexer] * weights, axis=axis) / sumval\n"
     ]
    },
    {
     "data": {
      "image/png": "[encoded data removed]",
      "text/plain": [
       "<Figure size 864x432 with 1 Axes>"
      ]
     },
     "metadata": {},
     "output_type": "display_data"
    }
   ],
   "source": [
    "# bootstrap → mean → difference\n",
    "boot_results = bs.bootstrap_ab(test = df_merged[df_merged.camp_group=='model+sms']['credit_amt'].dropna().values,\n",
    "                               ctrl = df_merged[df_merged.camp_group=='model']['credit_amt'].dropna().values,\n",
    "                               stat_func = bs_stats.mean,\n",
    "                               compare_func = bs_compare.difference,\n",
    "                               return_distribution=True\n",
    "                              )\n",
    "\n",
    "# персентили\n",
    "borders = np.percentile(boot_results, [2.5, 97.5])\n",
    "\n",
    "# графическая отрисовка\n",
    "sns.distplot(boot_results)\n",
    "plt.title('Bootstrap-распределение разниц среднего чека')\n",
    "plt.rcParams['figure.figsize'] = (12, 6)\n",
    "plt.vlines(0, ymin = 0, ymax = 0.000008, linestyles='--', colors='red')\n",
    "plt.vlines(borders, ymin=0, ymax=0.000008, linestyles='--', colors='grey', label='95%-доверительный интервал')\n",
    "plt.legend()\n",
    "plt.show()"
   ]
  },
  {
   "cell_type": "markdown",
   "metadata": {},
   "source": [
    "##### мощность"
   ]
  },
  {
   "cell_type": "markdown",
   "metadata": {},
   "source": [
    "мощность теста - <br>\n",
    "- вероятность правильного отклонения нулеой гипотезы, если она ложна <br>\n",
    "- вероятность увидеть различия там, где они действительно есть <br>\n",
    "<br>\n",
    "обычно берется мощность 80%+"
   ]
  },
  {
   "cell_type": "code",
   "execution_count": 84,
   "metadata": {
    "ExecuteTime": {
     "end_time": "2023-03-03T14:47:06.210411Z",
     "start_time": "2023-03-03T14:47:06.206169Z"
    }
   },
   "outputs": [],
   "source": [
    "chipower = smp.GofChisquarePower()\n",
    "\n",
    "def chi2_effect_size(p0, p1):\n",
    "    return np.sqrt(((p0 - p1)**2 / p0))"
   ]
  },
  {
   "cell_type": "code",
   "execution_count": 85,
   "metadata": {
    "ExecuteTime": {
     "end_time": "2023-03-03T14:47:08.246450Z",
     "start_time": "2023-03-03T14:47:08.235521Z"
    }
   },
   "outputs": [
    {
     "data": {
      "text/plain": [
       "0.11627460198373296"
      ]
     },
     "execution_count": 85,
     "metadata": {},
     "output_type": "execute_result"
    }
   ],
   "source": [
    "chipower.solve_power(  effect_size = chi2_effect_size(df_2.loc[0, 'potreb_rate'], df_2.loc[1, 'potreb_rate']),\n",
    "                       nobs = min(df_2.loc[0, 'client_count'], df_2.loc[1, 'client_count']),\n",
    "                       alpha = pval,\n",
    "                       power = None\n",
    "                    )"
   ]
  },
  {
   "cell_type": "code",
   "execution_count": 86,
   "metadata": {
    "ExecuteTime": {
     "end_time": "2023-03-03T14:47:09.221809Z",
     "start_time": "2023-03-03T14:47:09.207081Z"
    }
   },
   "outputs": [
    {
     "data": {
      "text/plain": [
       "263.75753654382396"
      ]
     },
     "execution_count": 86,
     "metadata": {},
     "output_type": "execute_result"
    }
   ],
   "source": [
    "chipower.solve_power(  effect_size = chi2_effect_size(df_2.loc[0, 'potreb_rate'], df_2.loc[1, 'potreb_rate']),\n",
    "                       nobs = None,\n",
    "                       alpha = 0.05,\n",
    "                       power = 0.8\n",
    "                    )"
   ]
  }
 ],
 "metadata": {
  "kernelspec": {
   "display_name": "Python 3.5.3 (ZNO0059623792)",
   "language": "python",
   "name": "pyenv.zno0059623792"
  },
  "language_info": {
   "codemirror_mode": {
    "name": "ipython",
    "version": 3
   },
   "file_extension": ".py",
   "mimetype": "text/x-python",
   "name": "python",
   "nbconvert_exporter": "python",
   "pygments_lexer": "ipython3",
   "version": "3.5.3"
  },
  "toc": {
   "base_numbering": 1,
   "nav_menu": {},
   "number_sections": true,
   "sideBar": true,
   "skip_h1_title": false,
   "title_cell": "Table of Contents",
   "title_sidebar": "Contents",
   "toc_cell": false,
   "toc_position": {},
   "toc_section_display": true,
   "toc_window_display": false
  }
 },
 "nbformat": 4,
 "nbformat_minor": 4
}
