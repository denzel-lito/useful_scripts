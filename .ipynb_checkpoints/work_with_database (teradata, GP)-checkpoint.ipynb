{
 "cells": [
  {
   "cell_type": "markdown",
   "metadata": {},
   "source": [
    "# teradata"
   ]
  },
  {
   "cell_type": "markdown",
   "metadata": {},
   "source": [
    "## выгрузка"
   ]
  },
  {
   "cell_type": "code",
   "execution_count": null,
   "metadata": {},
   "outputs": [],
   "source": [
    "import teradatasql\n",
    "import getpass\n",
    "passw = getpass.getpass('Введите пароль в Teradata: ')\n",
    "loader = teradatasql.connect(host='************', user='****', password=passw,  logmech='LDAP')\n",
    "#----------------------------------------------------------------------------------------------------\n",
    "query = 'sel * from sm_001_schema.xsr_temporary'\n",
    "df = pd.read_sql(query, loader) "
   ]
  },
  {
   "cell_type": "markdown",
   "metadata": {},
   "source": [
    "## загрузка"
   ]
  },
  {
   "cell_type": "code",
   "execution_count": null,
   "metadata": {},
   "outputs": [],
   "source": [
    "with teradatasql.connect(host='************', user='****', password=passw,  logmech='LDAP') as con:\n",
    "    with con.cursor() as cur:\n",
    "\n",
    "        S_INSERT = \"INSERT INTO sm_001_schema.xsr_temporary  \" + '(?,?,?,?,?,?,?)'\n",
    "        cur.execute(S_INSERT, df_1.values.tolist())\n",
    "        con.commit()"
   ]
  },
  {
   "cell_type": "code",
   "execution_count": null,
   "metadata": {},
   "outputs": [],
   "source": [
    "with teradatasql.connect(host='************', user='****', password=passw,  logmech='LDAP') as con:\n",
    "    with con.cursor() as cur:\n",
    "        cur.execute('''\n",
    "                insert into  sm_001_schema.xsr_temporary\n",
    "                        sel * from  sm_001_schema.xsr_new_list\n",
    "                    ''')\n",
    "        con.commit()"
   ]
  },
  {
   "cell_type": "markdown",
   "metadata": {},
   "source": [
    "# Greenplum"
   ]
  },
  {
   "cell_type": "markdown",
   "metadata": {},
   "source": [
    "## выгрузка"
   ]
  },
  {
   "cell_type": "code",
   "execution_count": null,
   "metadata": {},
   "outputs": [],
   "source": [
    "from dsps_modules import krb, ufunc\n",
    "krb.kinit('domain')\n",
    "conn = ufunc.gpconn()\n",
    "import pandas.io.sql as sqlio\n",
    "#-------------или-------------\n",
    "import pandas.io.sql as sqlio\n",
    "import psycopg2\n",
    "from io import StringIO\n",
    "conn = psycopg2.connect(host=\"************\", port = \"****\", dbname = \"****\", user = '****')\n",
    "#----------------------------------------------------------------------------------------------------\n",
    "query = 'select * from our_schema.my_table'\n",
    "df = sqlio.read_sql_query(query, conn)"
   ]
  },
  {
   "cell_type": "markdown",
   "metadata": {},
   "source": [
    "## загрузка"
   ]
  },
  {
   "cell_type": "code",
   "execution_count": null,
   "metadata": {},
   "outputs": [],
   "source": [
    "print('\\ndrop table in GP')\n",
    "with conn.cursor() as cur:\n",
    "    cur.execute('drop table if exists s_grnplm_final_data.xsr_my_table')\n",
    "\n",
    "print('\\ncreate table in GP')   \n",
    "with conn.cursor() as cur:\n",
    "    cur.execute('''\n",
    "             CREATE TABLE s_grnplm_final_data.xsr_my_table\n",
    "             (\n",
    "                    client_id BIGINT\n",
    "                   ,bal_amt FLOAT\n",
    "                   ,gender VARCHAR(2)\n",
    "                   ,predict INT\n",
    "             )\n",
    "             distributed by ( client_id )\n",
    "            ''')\n",
    "\n",
    "print('\\ninsert data in GP')\n",
    "buffio = StringIO()    \n",
    "df.to_csv(buffio, mode = 'a', sep = '^', encoding = 'utf-8', index = False, header = False)\n",
    "buffio.seek(0)\n",
    "\n",
    "with conn.cursor() as curs:\n",
    "    curs.copy_from(buffio,'s_grnplm_final_data.xsr_my_table', sep = '^', null = '')    \n",
    "conn.commit()"
   ]
  }
 ],
 "metadata": {
  "kernelspec": {
   "display_name": "Python 3 (ipykernel)",
   "language": "python",
   "name": "python3"
  },
  "language_info": {
   "codemirror_mode": {
    "name": "ipython",
    "version": 3
   },
   "file_extension": ".py",
   "mimetype": "text/x-python",
   "name": "python",
   "nbconvert_exporter": "python",
   "pygments_lexer": "ipython3",
   "version": "3.8.10"
  },
  "toc": {
   "base_numbering": 1,
   "nav_menu": {},
   "number_sections": true,
   "sideBar": true,
   "skip_h1_title": false,
   "title_cell": "Table of Contents",
   "title_sidebar": "Contents",
   "toc_cell": false,
   "toc_position": {},
   "toc_section_display": true,
   "toc_window_display": false
  }
 },
 "nbformat": 4,
 "nbformat_minor": 4
}
