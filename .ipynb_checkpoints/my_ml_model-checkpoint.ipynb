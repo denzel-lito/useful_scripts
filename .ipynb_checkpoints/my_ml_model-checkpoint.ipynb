{
 "cells": [
  {
   "cell_type": "markdown",
   "metadata": {},
   "source": [
    "# подключаем необходимые библиотеки и объявляем функции"
   ]
  },
  {
   "cell_type": "code",
   "execution_count": 1,
   "metadata": {
    "ExecuteTime": {
     "end_time": "2022-11-22T06:38:03.577124Z",
     "start_time": "2022-11-22T06:37:51.156720Z"
    },
    "init_cell": true
   },
   "outputs": [
    {
     "data": {
      "text/html": [
       "\n",
       "<style>\n",
       "                                                                                                                                                                                                                                        \n",
       "    div#notebook-container { width:60%; }\n",
       "    div#menubar-container { width:60%; }\n",
       "    div#maintoolbar-container { width:90%; }\n",
       "</style>\n"
      ],
      "text/plain": [
       "<IPython.core.display.HTML object>"
      ]
     },
     "metadata": {},
     "output_type": "display_data"
    }
   ],
   "source": [
    "import warnings\n",
    "warnings.filterwarnings('ignore')\n",
    "\n",
    "from IPython.core.display import display, HTML\n",
    "display(HTML(data=\"\"\"\n",
    "<style>\n",
    "                                                                                                                                                                                                                                        \n",
    "    div#notebook-container { width:60%; }\n",
    "    div#menubar-container { width:60%; }\n",
    "    div#maintoolbar-container { width:90%; }\n",
    "</style>\n",
    "\"\"\"))\n",
    "\n",
    "import pandas as pd\n",
    "import numpy as np\n",
    "import os\n",
    "import gc\n",
    "import datetime\n",
    "import pickle\n",
    "from tqdm import tqdm\n",
    "import seaborn as sns\n",
    "from matplotlib import pyplot as plt, ticker\n",
    "\n",
    "from sklearn.model_selection import train_test_split, ShuffleSplit, cross_val_score, KFold, GroupKFold, TimeSeriesSplit, RandomizedSearchCV\n",
    "from sklearn.preprocessing import LabelEncoder\n",
    "from sklearn.metrics import confusion_matrix, f1_score, roc_auc_score, roc_curve, precision_score, recall_score, auc, precision_recall_curve, average_precision_score\n",
    "from sklearn.calibration import CalibratedClassifierCV\n",
    "from sklearn.ensemble import RandomForestClassifier\n",
    "from lightgbm import LGBMClassifier\n",
    "from xgboost import XGBClassifier\n",
    "from catboost import CatBoostClassifier\n",
    "\n",
    "from lightautoml.automl.presets.tabular_presets import TabularAutoML\n",
    "from lightautoml.tasks import Task"
   ]
  },
  {
   "cell_type": "markdown",
   "metadata": {},
   "source": [
    "# пользовательские функции"
   ]
  },
  {
   "cell_type": "code",
   "execution_count": 2,
   "metadata": {
    "ExecuteTime": {
     "end_time": "2022-11-22T06:38:03.601909Z",
     "start_time": "2022-11-22T06:38:03.579926Z"
    },
    "init_cell": true
   },
   "outputs": [],
   "source": [
    "#---------удаление коррелирующих признаков---------\n",
    "def corr_drop(X,y):\n",
    "    dataset = X\n",
    "    dataset['y'] = y\n",
    "    corr = dataset.fillna(0).corr() #!!!!! fillna(0)\n",
    "    on_drop = ['y']\n",
    "    for i in tqdm(range(corr.shape[0]-1)):\n",
    "        for j in range(i+1,corr.shape[1]-1): #последний столбец - 'y'\n",
    "            if abs(corr.iloc[i,j]) > 0.7:\n",
    "                if abs(corr.iloc[i,corr.shape[1]-1]) < abs(corr.iloc[j,corr.shape[1]-1]): \n",
    "                    on_drop.append(corr.columns[i])\n",
    "                else: \n",
    "                    on_drop.append(corr.columns[j])\n",
    "    dataset.drop(on_drop, axis = 1, inplace = True)\n",
    "    return dataset\n",
    "\n",
    "#------------------определение типов полей------------------\n",
    "def types(dataset):\n",
    "    cat_features = [i[0] for i in dict(dataset.dtypes).items() if 'obj' in str(i[1])]\n",
    "    float_features = [i[0] for i in dict(dataset.dtypes).items() if 'float' in str(i[1])]\n",
    "    int_features = [i[0] for i in dict(dataset.dtypes).items() if 'int' in str(i[1])]\n",
    "    #date_features = [i[0] for i in dict(dataset.dtypes).items() if 'date' in str(i[1])]\n",
    "    date_features = [i for i in dataset.columns if i.find('_dt') != -1]\n",
    "    # добавление кодов (например код тер.банка) в категориальные признаки\n",
    "    cat_dop = [i for i in dataset.columns if i.find('_cd') != -1]      \n",
    "    for i in cat_dop:\n",
    "        if i not in cat_features: \n",
    "            cat_features.append(i)\n",
    "            if i in float_features: float_features.remove(i)\n",
    "            if i in int_features: int_features.remove(i)\n",
    "    # удаление полей типа даты из категориальных\n",
    "    for i in date_features: \n",
    "        if i in cat_features: cat_features.remove(i)  \n",
    "    # объединение целых и вещественных полей\n",
    "    numeric_features = float_features + int_features\n",
    "    return cat_features, numeric_features, date_features\n",
    "\n",
    "#--------вывод фалов заданной директории----------\n",
    "def list_files(startpath):\n",
    "    for root, dirs, files in os.walk(startpath):\n",
    "        level = root.replace(startpath, '').count(os.sep)\n",
    "        indent = ' ' * 4 * (level)\n",
    "        print('{}{}/'.format(indent, os.path.basename(root)))\n",
    "        subindent = ' ' * 4 * (level + 1)\n",
    "        for f in files:\n",
    "            print('{}{}'.format(subindent, f))\n",
    "        \n",
    "# список признаков, по которым только одно уникальное значение\n",
    "def single_unique(dataset):\n",
    "    unique_counts = dataset.nunique()\n",
    "    unique_counts = pd.DataFrame(unique_counts).reset_index().rename(columns = {'index': 'feature', 0: 'nunique'})\n",
    "    single_unique = pd.DataFrame(unique_counts[unique_counts['nunique'] <= 1])\n",
    "    single_unique = list(single_unique['feature'])\n",
    "    return single_unique       \n",
    "\n",
    "# преобразование признаков для моделей градиентного бустинга\n",
    "def transform_data(dataset, cat_features, numeric_features, date_features, fillna = True):\n",
    " \n",
    "    # преобразование полей типа дата\n",
    "    today = datetime.date.today()\n",
    "    for i in date_features:  #date_features:\n",
    "        dataset[i] = dataset[i].fillna('').astype(str)\n",
    "        dataset[i] = np.where(dataset[i]=='9999-12-31', '2099-12-31', dataset[i])\n",
    "        dataset[i] = pd.to_datetime(dataset[i], format='%Y-%m-%d')\n",
    "        dataset[i] = (pd.Timestamp.now() - dataset[i]).apply(lambda x: x.days)\n",
    "      \n",
    "    if fillna == True: # заполнять или нет пустые ячейки\n",
    "        # заполнение пропусков для категор. приз-в на -99999\n",
    "        numeric_features = numeric_features + date_features\n",
    "        dataset[numeric_features] = dataset[numeric_features].fillna(-99999)\n",
    "        \n",
    "        # заполнение пропусков для категор. приз-в на \"NULL\"\n",
    "        dataset[cat_features].fillna('NULL', inplace=True)\n",
    "        \n",
    "        # преобразование полей строкового типа\n",
    "        le = LabelEncoder()\n",
    "        for i in cat_features:\n",
    "            dataset[i] = dataset[i].astype(str)\n",
    "            dataset[i] = le.fit_transform(dataset[i])\n",
    "            dataset[i] = dataset[i].astype(int)\n",
    "    else:\n",
    "        dataset_copy = dataset.copy()\n",
    "        # преобразование полей строкового типа\n",
    "        le = LabelEncoder()\n",
    "        for i in cat_features:\n",
    "            dataset[i] = dataset[i].astype(str)\n",
    "            dataset[i] = le.fit_transform(dataset[i])\n",
    "            dataset[i] = dataset[i].astype(int)\n",
    "        # оставление пустых ячеек (без заполнения)\n",
    "        s = 1\n",
    "        for j in cat_features:\n",
    "            print(str(s)+'/'+str(len(cat_features)))\n",
    "            s+=1\n",
    "            for i in dataset.index:\n",
    "                if dataset_copy.loc[[i],j].isnull().values[0]: dataset.loc[i,j] = None   \n",
    "            \n",
    "    return dataset"
   ]
  },
  {
   "cell_type": "markdown",
   "metadata": {},
   "source": [
    "##### файлы директорий path и save_path"
   ]
  },
  {
   "cell_type": "code",
   "execution_count": 1,
   "metadata": {
    "ExecuteTime": {
     "end_time": "2023-03-07T13:32:20.332199Z",
     "start_time": "2023-03-07T13:32:20.326271Z"
    },
    "scrolled": true
   },
   "outputs": [],
   "source": [
    "# def list_files(startpath):\n",
    "#     for root, dirs, files in os.walk(startpath):\n",
    "#         level = root.replace(startpath, '').count(os.sep)\n",
    "#         indent = ' ' * 4 * (level)\n",
    "#         print('{}{}/'.format(indent, os.path.basename(root)))\n",
    "#         subindent = ' ' * 4 * (level + 1)\n",
    "#         for f in sorted(files):\n",
    "#             print('{}{}'.format(subindent, f))\n",
    "\n",
    "# list_files('/data/yarn/workspace/16971921_omega-sbrf-ru/notebooks/xsr_loan') "
   ]
  },
  {
   "cell_type": "markdown",
   "metadata": {},
   "source": [
    "# выгрузка данных"
   ]
  },
  {
   "cell_type": "code",
   "execution_count": 4,
   "metadata": {
    "ExecuteTime": {
     "end_time": "2022-11-22T06:43:02.139074Z",
     "start_time": "2022-11-22T06:38:05.745312Z"
    }
   },
   "outputs": [
    {
     "name": "stdout",
     "output_type": "stream",
     "text": [
      "data_train (первоначально)\n",
      "(1268881, 981)\n",
      "\n",
      "data_test_oot\n",
      "(295489, 981)\n",
      "\n",
      "data_val\n",
      "(126889, 981)\n",
      "\n",
      "data_train (после выделения валидац.в-ки)\n",
      "(1141992, 981)\n"
     ]
    },
    {
     "data": {
      "text/plain": [
       "0"
      ]
     },
     "execution_count": 4,
     "metadata": {},
     "output_type": "execute_result"
    }
   ],
   "source": [
    "print('data_train (первоначально)')\n",
    "data_train = pd.read_csv(\"data_pl/all_data_loan_pl_train.csv\")\n",
    "print(data_train.shape)\n",
    "print()\n",
    "\n",
    "print('data_test_oot')\n",
    "data_test = pd.read_csv(\"data_pl/all_data_loan_pl_test_oot.csv\")\n",
    "print(data_test.shape)\n",
    "print()\n",
    "\n",
    "print('data_val')\n",
    "y, X = data_train[['target']], data_train.drop('target', axis=1)\n",
    "X_train, X_test, y_train, y_test = train_test_split(X, y, test_size=0.1, random_state=123, stratify=y)\n",
    "data_val = data_train.loc[X_test.index]\n",
    "data_train = data_train.loc[X_train.index]\n",
    "data_val.to_csv('data_pl/all_data_loan_pl_test_oos.csv', index=False)\n",
    "print(data_val.shape)\n",
    "print()\n",
    "\n",
    "print('data_train (после выделения валидац.в-ки)')\n",
    "print(data_train.shape)\n",
    "\n",
    "del([X, y, X_train, X_test, y_train, y_test])\n",
    "gc.collect()"
   ]
  },
  {
   "cell_type": "markdown",
   "metadata": {},
   "source": [
    "##### Визуализируем размерности получившихся выборок"
   ]
  },
  {
   "cell_type": "code",
   "execution_count": 5,
   "metadata": {
    "ExecuteTime": {
     "end_time": "2022-11-22T06:43:14.434743Z",
     "start_time": "2022-11-22T06:43:02.140746Z"
    }
   },
   "outputs": [
    {
     "data": {
      "text/html": [
       "<div>\n",
       "<style scoped>\n",
       "    .dataframe tbody tr th:only-of-type {\n",
       "        vertical-align: middle;\n",
       "    }\n",
       "\n",
       "    .dataframe tbody tr th {\n",
       "        vertical-align: top;\n",
       "    }\n",
       "\n",
       "    .dataframe thead th {\n",
       "        text-align: right;\n",
       "    }\n",
       "</style>\n",
       "<table border=\"1\" class=\"dataframe\">\n",
       "  <thead>\n",
       "    <tr style=\"text-align: right;\">\n",
       "      <th></th>\n",
       "      <th>train</th>\n",
       "      <th>out of sample</th>\n",
       "      <th>out of time</th>\n",
       "    </tr>\n",
       "  </thead>\n",
       "  <tbody>\n",
       "    <tr>\n",
       "      <th>всего наблюдений</th>\n",
       "      <td>1141992.0</td>\n",
       "      <td>126889.0</td>\n",
       "      <td>295489.000</td>\n",
       "    </tr>\n",
       "    <tr>\n",
       "      <th>целевых событий</th>\n",
       "      <td>114637.0</td>\n",
       "      <td>12738.0</td>\n",
       "      <td>4140.000</td>\n",
       "    </tr>\n",
       "    <tr>\n",
       "      <th>нецелевых событий</th>\n",
       "      <td>1027355.0</td>\n",
       "      <td>114151.0</td>\n",
       "      <td>291349.000</td>\n",
       "    </tr>\n",
       "    <tr>\n",
       "      <th>доля целевых событий</th>\n",
       "      <td>0.1</td>\n",
       "      <td>0.1</td>\n",
       "      <td>0.014</td>\n",
       "    </tr>\n",
       "  </tbody>\n",
       "</table>\n",
       "</div>"
      ],
      "text/plain": [
       "                          train  out of sample  out of time\n",
       "всего наблюдений      1141992.0       126889.0   295489.000\n",
       "целевых событий        114637.0        12738.0     4140.000\n",
       "нецелевых событий     1027355.0       114151.0   291349.000\n",
       "доля целевых событий        0.1            0.1        0.014"
      ]
     },
     "metadata": {},
     "output_type": "display_data"
    }
   ],
   "source": [
    "data_desc = pd.DataFrame(  columns=['train', 'out of sample', 'out of time'], index=['всего наблюдений', 'целевых событий', 'нецелевых событий', 'доля целевых событий']  )\n",
    "\n",
    "train = []\n",
    "oos = []\n",
    "oot = []\n",
    "\n",
    "train.append(data_train.shape[0])\n",
    "train.append(data_train[data_train['target']==1].shape[0])\n",
    "train.append(data_train[data_train['target']==0].shape[0])\n",
    "train.append(round(data_train[data_train['target']==1].shape[0] / data_train.shape[0], 3))\n",
    "\n",
    "oos.append(data_val.shape[0])\n",
    "oos.append(data_val[data_val['target']==1].shape[0])\n",
    "oos.append(data_val[data_val['target']==0].shape[0])\n",
    "oos.append(round(data_val[data_val['target']==1].shape[0] / data_val.shape[0], 3))\n",
    "\n",
    "oot.append(data_test.shape[0])\n",
    "oot.append(data_test[data_test['target']==1].shape[0])\n",
    "oot.append(data_test[data_test['target']==0].shape[0])\n",
    "oot.append(round(data_test[data_test['target']==1].shape[0] / data_test.shape[0], 3))\n",
    "\n",
    "data_desc['train'] = train\n",
    "data_desc['out of sample'] = oos\n",
    "data_desc['out of time'] = oot\n",
    "\n",
    "display(data_desc)"
   ]
  },
  {
   "cell_type": "markdown",
   "metadata": {
    "heading_collapsed": true
   },
   "source": [
    "# прогон по automl"
   ]
  },
  {
   "cell_type": "code",
   "execution_count": 6,
   "metadata": {
    "ExecuteTime": {
     "end_time": "2022-11-22T06:43:14.438306Z",
     "start_time": "2022-11-22T06:43:14.436199Z"
    },
    "hidden": true,
    "scrolled": true
   },
   "outputs": [],
   "source": [
    "# # 40 min\n",
    "# automl = TabularAutoML(\n",
    "#     task = Task(\n",
    "#         name = 'binary',\n",
    "#         metric = lambda y_true, y_pred: f1_score(y_true, (y_pred > 0.5)*1)),\n",
    "#     reader_params = {'cv': 4, 'random_state': 9}\n",
    "# )\n",
    "\n",
    "# never_used_features = pd.read_csv('never_used_features.csv', sep=';', encoding='cp1251')['Атрибут'].tolist()\n",
    "# never_used_features = list( set(data_train.columns) & set(never_used_features) )\n",
    "\n",
    "# oof_pred = automl.fit_predict(\n",
    "#     data_train,\n",
    "#     roles = {'target': 'target', 'drop': never_used_features+['report_dt', 'epk_id']}\n",
    "# )\n",
    "\n",
    "# print(automl.create_model_str_desc())"
   ]
  },
  {
   "cell_type": "code",
   "execution_count": 7,
   "metadata": {
    "ExecuteTime": {
     "end_time": "2022-11-22T06:43:14.443949Z",
     "start_time": "2022-11-22T06:43:14.439757Z"
    },
    "hidden": true
   },
   "outputs": [],
   "source": [
    "# with open('data_pl/automl_model.pkl', 'wb') as f:\n",
    "#     pickle.dump(automl, f)"
   ]
  },
  {
   "cell_type": "code",
   "execution_count": 8,
   "metadata": {
    "ExecuteTime": {
     "end_time": "2022-11-22T06:43:14.450905Z",
     "start_time": "2022-11-22T06:43:14.446132Z"
    },
    "hidden": true
   },
   "outputs": [],
   "source": [
    "# fast_fi = automl.get_feature_scores('fast')\n",
    "# fast_fi.set_index('Feature')['Importance'].iloc[:30].plot.bar(figsize = (20,10), grid=True)"
   ]
  },
  {
   "cell_type": "code",
   "execution_count": 9,
   "metadata": {
    "ExecuteTime": {
     "end_time": "2022-11-22T06:43:14.455368Z",
     "start_time": "2022-11-22T06:43:14.452635Z"
    },
    "hidden": true
   },
   "outputs": [],
   "source": [
    "# print('\\nточность модели на train-выборке')\n",
    "\n",
    "# aut_prediction = automl.predict(data_train)\n",
    "# y_pred = aut_prediction.data[:,0] > 0.5\n",
    "# y_pr_prob = aut_prediction.data[:,0]\n",
    "\n",
    "# y_test = data_train.target\n",
    "\n",
    "# print( '\\nconfusion matrix: \\n', confusion_matrix(y_test, y_pred) )\n",
    "# print( '\\nauc: ', round(roc_auc_score(y_test, y_pr_prob), 4) )\n",
    "# print( \"\\ngini: {:.2f}\\n\".format(  round(roc_auc_score(y_test, y_pr_prob)*2-1,4)  ) )\n",
    "# print( '\\nf1: ', round(f1_score(y_test, y_pred), 4) )\n",
    "\n",
    "# #------------------------------------------------------------------------------------------\n",
    "\n",
    "# print('\\nточность модели на OOS-выборке')\n",
    "\n",
    "# aut_prediction = automl.predict(data_val)\n",
    "# y_pred = aut_prediction.data[:,0] > 0.5\n",
    "# y_pr_prob = aut_prediction.data[:,0]\n",
    "\n",
    "# y_test = data_val.target\n",
    "\n",
    "# print( '\\nconfusion matrix: \\n', confusion_matrix(y_test, y_pred) )\n",
    "# print( '\\nauc: ', round(roc_auc_score(y_test, y_pr_prob), 4) )\n",
    "# print( \"\\ngini: {:.2f}\\n\".format(  round(roc_auc_score(y_test, y_pr_prob)*2-1,4)  ) )\n",
    "# print( '\\nf1: ', round(f1_score(y_test, y_pred), 4) )\n",
    "\n",
    "# #------------------------------------------------------------------------------------------\n",
    "\n",
    "# print('\\nточность модели на OOT-выборке')\n",
    "\n",
    "# aut_prediction = automl.predict(data_test)\n",
    "# y_pred = aut_prediction.data[:,0] > 0.5\n",
    "# y_pr_prob = aut_prediction.data[:,0]\n",
    "\n",
    "# y_test = data_test.target\n",
    "\n",
    "# print( '\\nconfusion matrix: \\n', confusion_matrix(y_test, y_pred) )\n",
    "# print( '\\nauc: ', round(roc_auc_score(y_test, y_pr_prob), 4) )\n",
    "# print( \"\\ngini: {:.2f}\\n\".format(  round(roc_auc_score(y_test, y_pr_prob)*2-1,4)  ) )\n",
    "# print( '\\nf1: ', round(f1_score(y_test, y_pred), 4) )"
   ]
  },
  {
   "cell_type": "markdown",
   "metadata": {},
   "source": [
    "# обработка и первычный отбор данных"
   ]
  },
  {
   "cell_type": "code",
   "execution_count": 10,
   "metadata": {
    "ExecuteTime": {
     "end_time": "2022-11-22T07:36:11.319614Z",
     "start_time": "2022-11-22T06:43:14.456679Z"
    }
   },
   "outputs": [
    {
     "name": "stdout",
     "output_type": "stream",
     "text": [
      "\n",
      "первоначальное кол-во признаков: \n",
      "978\n",
      "\n",
      "\n",
      "кол-во признаков после удаления неинформативных фичей: \n",
      "964\n",
      "\n",
      "\n",
      "кол-во признаков после удаления невариативных полей: \n",
      "939\n",
      "\n"
     ]
    },
    {
     "name": "stderr",
     "output_type": "stream",
     "text": [
      "100%|██████████| 939/939 [00:11<00:00, 79.59it/s] \n"
     ]
    },
    {
     "name": "stdout",
     "output_type": "stream",
     "text": [
      "после удаления коррелирующих признаков: \n",
      "359\n",
      "\n",
      "(1141992, 359)\n"
     ]
    },
    {
     "data": {
      "text/plain": [
       "0"
      ]
     },
     "execution_count": 10,
     "metadata": {},
     "output_type": "execute_result"
    }
   ],
   "source": [
    "# 36min\n",
    "\n",
    "y = data_train[['target']]\n",
    "X = data_train.drop(['target', 'report_dt', 'client_id'], axis=1)\n",
    "\n",
    "print( '\\nпервоначальное кол-во признаков: \\n{}\\n'.format(X.shape[1]) )\n",
    "\n",
    "never_used_features = pd.read_csv('never_used_features.csv', sep=';', encoding='cp1251')['Атрибут'].tolist()\n",
    "never_used_features = list( set(data_train.columns) & set(never_used_features) )\n",
    "X = X.drop(never_used_features, axis=1)\n",
    "\n",
    "print( '\\nкол-во признаков после удаления неинформативных фичей: \\n{}\\n'.format(X.shape[1]) )\n",
    "\n",
    "single_value_cols = single_unique(X)\n",
    "X = X.drop(single_value_cols, axis=1)\n",
    "\n",
    "print( '\\nкол-во признаков после удаления невариативных полей: \\n{}\\n'.format(X.shape[1]) )\n",
    "\n",
    "cat_f, numeric_f, date_f = types(X)\n",
    "X = transform_data(X, cat_f, numeric_f, date_f)\n",
    "\n",
    "X = corr_drop(X,y) # +1h\n",
    "print( 'после удаления коррелирующих признаков: \\n{}\\n'.format(X.shape[1]) )\n",
    "\n",
    "print(X.shape)\n",
    "\n",
    "feature_select_0 = X.columns.tolist()\n",
    "\n",
    "del([X, y])\n",
    "gc.collect()"
   ]
  },
  {
   "cell_type": "markdown",
   "metadata": {},
   "source": [
    "##### отбор признаков для data_train, data_val, data_test"
   ]
  },
  {
   "cell_type": "code",
   "execution_count": 11,
   "metadata": {
    "ExecuteTime": {
     "end_time": "2022-11-22T07:45:33.878961Z",
     "start_time": "2022-11-22T07:36:11.321813Z"
    },
    "scrolled": true
   },
   "outputs": [
    {
     "name": "stdout",
     "output_type": "stream",
     "text": [
      "data_train\n",
      "data_val\n",
      "data_test\n"
     ]
    }
   ],
   "source": [
    "cat_f, numeric_f, date_f = types(data_train[feature_select_0])\n",
    "categories_index = [i for i in range(len(feature_select_0)) if feature_select_0[i] in cat_f]\n",
    "categories = [i for i in feature_select_0 if i in cat_f]\n",
    "\n",
    "print('data_train')\n",
    "data_train = data_train[['report_dt', 'client_id', 'target'] + feature_select_0]\n",
    "data_train[feature_select_0] = transform_data(data_train[feature_select_0], cat_f, numeric_f, date_f)\n",
    "\n",
    "print('data_val')\n",
    "data_val = data_val[['report_dt', 'client_id', 'target'] + feature_select_0]\n",
    "data_val[feature_select_0] = transform_data(data_val[feature_select_0], cat_f, numeric_f, date_f)\n",
    "\n",
    "print('data_test')\n",
    "data_test = data_test[['report_dt', 'client_id', 'target'] + feature_select_0]\n",
    "data_test[feature_select_0] = transform_data(data_test[feature_select_0], cat_f, numeric_f, date_f)"
   ]
  },
  {
   "cell_type": "markdown",
   "metadata": {},
   "source": [
    "# определяем объясняющие переменные"
   ]
  },
  {
   "cell_type": "code",
   "execution_count": 12,
   "metadata": {
    "ExecuteTime": {
     "end_time": "2022-11-22T07:46:30.956874Z",
     "start_time": "2022-11-22T07:45:33.881414Z"
    }
   },
   "outputs": [
    {
     "name": "stdout",
     "output_type": "stream",
     "text": [
      "-\n"
     ]
    },
    {
     "data": {
      "text/plain": [
       "LGBMClassifier(boosting_type='gbdt', class_weight=None, colsample_bytree=1.0,\n",
       "               importance_type='gain', is_unbalance=True, learning_rate=0.1,\n",
       "               max_depth=-1, min_child_samples=20, min_child_weight=0.001,\n",
       "               min_split_gain=0.0, n_estimators=100, n_jobs=-1, num_leaves=31,\n",
       "               objective=None, random_state=123, reg_alpha=0.0, reg_lambda=0.0,\n",
       "               silent=True, subsample=1.0, subsample_for_bin=200000,\n",
       "               subsample_freq=0)"
      ]
     },
     "execution_count": 12,
     "metadata": {},
     "output_type": "execute_result"
    }
   ],
   "source": [
    "X_train, y_train = data_train[feature_select_0], data_train['target']\n",
    "X_test, y_test = data_val[feature_select_0], data_val['target']\n",
    "    \n",
    "print('-')\n",
    "\n",
    "model = LGBMClassifier(random_state=123, n_jobs=-1, importance_type='gain', is_unbalance=True)\n",
    "model.fit(X_train, y_train, categorical_feature=categories_index)"
   ]
  },
  {
   "cell_type": "markdown",
   "metadata": {
    "heading_collapsed": true
   },
   "source": [
    "## permutarion importance"
   ]
  },
  {
   "cell_type": "code",
   "execution_count": 13,
   "metadata": {
    "ExecuteTime": {
     "end_time": "2022-11-22T07:46:30.960933Z",
     "start_time": "2022-11-22T07:46:30.958694Z"
    },
    "hidden": true
   },
   "outputs": [],
   "source": [
    "# model = LGBMClassifier(random_state=123, n_jobs=-1, importance_type='gain', is_unbalance=True)\n",
    "# model.fit(X_train[a], y_train, categorical_feature=categories_index)"
   ]
  },
  {
   "cell_type": "code",
   "execution_count": 14,
   "metadata": {
    "ExecuteTime": {
     "end_time": "2022-11-22T07:46:30.969576Z",
     "start_time": "2022-11-22T07:46:30.962926Z"
    },
    "hidden": true
   },
   "outputs": [],
   "source": [
    "# baseline_prediction = model.predict_proba(X_test)[:, 1]\n",
    "# baseline_score = roc_auc_score(y_test, baseline_prediction)*2-1\n",
    "\n",
    "# feature_importance = np.zeros(X_test.shape[1])\n",
    "# X_copy = X_test.copy(deep=True)\n",
    "# for num, feature in tqdm(enumerate(X_copy.columns)):\n",
    "#     X_copy[feature] = np.random.permutation(X_copy[feature])\n",
    "#     try:\n",
    "#         y_pr_prob = model.predict_proba(X_copy)[:,1]\n",
    "#         score = roc_auc_score(y_test, y_pr_prob)\n",
    "#     except AttributeError:\n",
    "#         y_pr_prob = model.predict_proba(X_copy)[:,1]\n",
    "#         score = roc_auc_score(y_test, y_pr_prob)\n",
    "#     feature_importance[num] = score\n",
    "    \n",
    "# maximize =True\n",
    "# if maximize:\n",
    "#     feature_importance = (baseline_score - feature_importance) * 100\n",
    "# else:\n",
    "#     feature_importance = (feature_importance - baseline_score)\n",
    "    \n",
    "# perm_imp_features = pd.DataFrame({\n",
    "#     \"feature\": X_test.columns,\n",
    "#     \"permutation_importance\": feature_importance\n",
    "# })\n",
    "# perm_imp_features = perm_imp_features.sort_values(by=\"permutation_importance\", ascending=False)\n",
    "# perm_imp_features = perm_imp_features.reset_index(drop=True)\n",
    "\n",
    "# print(perm_imp_features.shape)\n",
    "# perm_imp_features"
   ]
  },
  {
   "cell_type": "code",
   "execution_count": 15,
   "metadata": {
    "ExecuteTime": {
     "end_time": "2022-11-22T07:46:30.975424Z",
     "start_time": "2022-11-22T07:46:30.971744Z"
    },
    "hidden": true
   },
   "outputs": [],
   "source": [
    "# perm_imp_features[perm_imp_features.feature.isin(features_cur)]"
   ]
  },
  {
   "cell_type": "markdown",
   "metadata": {},
   "source": [
    "## зависимость Gini от кол-ва признаков"
   ]
  },
  {
   "cell_type": "code",
   "execution_count": 16,
   "metadata": {
    "ExecuteTime": {
     "end_time": "2022-11-22T10:15:48.141957Z",
     "start_time": "2022-11-22T07:46:30.977449Z"
    }
   },
   "outputs": [
    {
     "name": "stdout",
     "output_type": "stream",
     "text": [
      "процесс перебора кол-ва фичей\n"
     ]
    },
    {
     "name": "stderr",
     "output_type": "stream",
     "text": [
      "100%|██████████| 100/100 [2:29:16<00:00, 89.56s/it]  \n"
     ]
    },
    {
     "data": {
      "image/png": "[encoded data removed]",
      "text/plain": [
       "<Figure size 1224x864 with 1 Axes>"
      ]
     },
     "metadata": {
      "needs_background": "light"
     },
     "output_type": "display_data"
    },
    {
     "name": "stdout",
     "output_type": "stream",
     "text": [
      "минимальный  gini на train-выборке:  0.5527\n",
      "максимальный gini на train-выборке:  0.6967\n",
      "минимальный  gini на test-выборке:   0.5971\n",
      "максимальный gini на test-выборке:   0.707\n"
     ]
    }
   ],
   "source": [
    "# 30min\n",
    "\n",
    "#получение ранжированных по gain коэффициентов модели без настройки гиперпараметрво\n",
    "features_lgb = [[i,j] for i,j in zip(X_train.columns, model.feature_importances_)]\n",
    "features_lgb = pd.DataFrame( features_lgb, columns=['feature', 'importance'] ).sort_values(by=['importance'], ascending=False)\n",
    "features_lgb = features_lgb.feature.values[:100]\n",
    "\n",
    "#-------------------------------------------------------------------------------------\n",
    "#получение зависимости коэффициента gini от кол-ва признаков\n",
    "gini_train = []\n",
    "gini_test = []\n",
    "features = features_lgb\n",
    "\n",
    "#-------------------------------------------------------------------------------------\n",
    "print('процесс перебора кол-ва фичей')\n",
    "\n",
    "cv = ShuffleSplit(n_splits=3, random_state=123)\n",
    "\n",
    "for i in tqdm(range(len(features))):\n",
    "    #--------------------------------------------------    \n",
    "    categories_index = [i for i in range(len(X_train[features[0:i+1]].columns)) if X_train[features[0:i+1]].columns[i] in cat_f]\n",
    "    model = LGBMClassifier(random_state=123, n_jobs=4, is_unbalance=True)\n",
    "    model.fit(X_train[features[0:i+1]], y_train, categorical_feature=categories_index)\n",
    "    #--------------------------------------------------\n",
    "    gini_train.append(cross_val_score(model, X_train[features[0:i+1]], y_train, cv=cv).mean()*2-1)\n",
    "    gini_test.append( cross_val_score(model,  X_test[features[0:i+1]], y_test,  cv=cv).mean()*2-1)\n",
    "count_f = np.arange(len(features))+1  \n",
    "#-------------------------------------------------------------------------------------\n",
    "#отрисовка графика данной зависимости\n",
    "fig, ax = plt.subplots()\n",
    "#настройка холста\n",
    "fig.set_figwidth(17)\n",
    "fig.set_figheight(12)\n",
    "ax.set_facecolor('xkcd:white')\n",
    "#графики\n",
    "ax.plot(count_f, gini_train, color='c', linewidth=5, label='train') #'k--', label = 'Random'\n",
    "ax.plot(count_f, gini_test, color='g', linewidth=5, label='test')\n",
    "#установка интервала основных и вспомогательных делений\n",
    "ax.xaxis.set_major_locator(ticker.MultipleLocator(10))\n",
    "ax.xaxis.set_minor_locator(ticker.MultipleLocator(1))\n",
    "ax.yaxis.set_major_locator(ticker.MultipleLocator(.05))\n",
    "ax.yaxis.set_minor_locator(ticker.MultipleLocator(.01))\n",
    "#включаем видимость вспомогательных делений\n",
    "# ax.minorticks_on()\n",
    "#задаем внешний вид линий сетки\n",
    "ax.grid(which='minor', color='grey')\n",
    "ax.grid(which='major', color='black', linewidth = 2)\n",
    "#настройка вида подписей осей:\n",
    "ax.tick_params(axis = 'both',       #  Применяем параметры к обеим осям\n",
    "               which = 'major',     #  Применяем параметры к основным делениям\n",
    "               direction = 'inout', #  Рисуем деления внутри и снаружи графика\n",
    "               length = 15,         #  Длинна делений\n",
    "               width = 4,           #  Ширина делений\n",
    "               color = 'black',     #  Цвет делений\n",
    "               pad = 2,             #  Расстояние между черточкой и ее подписью\n",
    "               labelsize = 15,      #  Размер подписи\n",
    "               labelcolor = 'black' #  Цвет подписи\n",
    "              )     \n",
    "ax.legend(loc = 'lower right', fontsize=25) #'upper left'\n",
    "plt.title(\"Зависимость GINI от кол-ва признаков\", fontsize=30)\n",
    "plt.xlim([1,100])\n",
    "plt.xlabel('features count', fontsize=25)\n",
    "plt.ylabel('gini', fontsize=25)\n",
    "plt.show()\n",
    "\n",
    "print('минимальный  gini на train-выборке: ', round(np.min(gini_train),4))\n",
    "print('максимальный gini на train-выборке: ', round(np.max(gini_train),4))\n",
    "print('минимальный  gini на test-выборке:  ', round(np.min(gini_test),4))\n",
    "print('максимальный gini на test-выборке:  ', round(np.max(gini_test),4))"
   ]
  },
  {
   "cell_type": "markdown",
   "metadata": {},
   "source": [
    "## зависимость f1 от кол-ва признаков"
   ]
  },
  {
   "cell_type": "code",
   "execution_count": 17,
   "metadata": {
    "ExecuteTime": {
     "end_time": "2022-11-22T11:02:47.437270Z",
     "start_time": "2022-11-22T10:15:48.143777Z"
    },
    "scrolled": false
   },
   "outputs": [
    {
     "name": "stdout",
     "output_type": "stream",
     "text": [
      "1: 0.112936 (0.026757)\n",
      "2: 0.325287 (0.005318)\n",
      "3: 0.389155 (0.007417)\n",
      "4: 0.390415 (0.008448)\n",
      "5: 0.467773 (0.005054)\n",
      "6: 0.464669 (0.004468)\n",
      "7: 0.467791 (0.004191)\n",
      "8: 0.469683 (0.004489)\n",
      "9: 0.478133 (0.003633)\n",
      "10: 0.493657 (0.002994)\n",
      "11: 0.501721 (0.004406)\n",
      "12: 0.503479 (0.004181)\n",
      "13: 0.506553 (0.003951)\n",
      "14: 0.507513 (0.003925)\n",
      "15: 0.509415 (0.004154)\n",
      "16: 0.508486 (0.003262)\n",
      "17: 0.509901 (0.003861)\n",
      "18: 0.510831 (0.003669)\n",
      "19: 0.511799 (0.002930)\n",
      "20: 0.513564 (0.003637)\n",
      "21: 0.513287 (0.003091)\n",
      "22: 0.513411 (0.003561)\n",
      "23: 0.512825 (0.003677)\n",
      "24: 0.513403 (0.003575)\n",
      "25: 0.513623 (0.003771)\n",
      "26: 0.513570 (0.004109)\n",
      "27: 0.513474 (0.003046)\n",
      "28: 0.512801 (0.003191)\n",
      "29: 0.513874 (0.003619)\n"
     ]
    },
    {
     "data": {
      "image/png": "[encoded data removed]",
      "text/plain": [
       "<Figure size 1440x720 with 1 Axes>"
      ]
     },
     "metadata": {
      "needs_background": "light"
     },
     "output_type": "display_data"
    }
   ],
   "source": [
    "# 36 min\n",
    "\n",
    "# to feed the random state\n",
    "seed = 7\n",
    "\n",
    "model = LGBMClassifier(random_state=123, n_jobs=64)  \n",
    "feature_set = [(str(i), features_lgb[:i]) for i in range(1, 30)]\n",
    "\n",
    "# evaluate each feature_set in turn\n",
    "names, results = [], []\n",
    "scoring = 'f1'\n",
    "\n",
    "for name, features_i in feature_set:  \n",
    "    \n",
    "    X_train, y_train = data_train[features_i], data_train['target']\n",
    "    X_test, y_test = data_val[features_i], data_val['target']\n",
    "    \n",
    "    cat_f, numeric_f, date_f = types(X_train)\n",
    "    categories_index = [i for i in range(len(X_train.columns)) if X_train.columns[i] in cat_f]\n",
    "    if len(categories_index) == 0: categories_index='auto'    \n",
    "    \n",
    "    kfold = KFold(n_splits=10, random_state=seed)\n",
    "    cv_results = cross_val_score(model, X_train, y_train, cv=kfold, scoring=scoring)\n",
    "    results.append(cv_results)\n",
    "    names.append(name)\n",
    "    print( \"%s: %f (%f)\" % (name, cv_results.mean(), cv_results.std()) )\n",
    "        \n",
    "#plot feature set comparison\n",
    "\n",
    "fig, ax = plt.subplots()\n",
    "fig.set_figwidth(20)\n",
    "fig.set_figheight(10)\n",
    "\n",
    "\n",
    "a_0 = [np.mean(i) for i in results]\n",
    "x = [int(i) for i in names]\n",
    "a_std_plus = [np.mean(i) + np.std(i) for i in results]\n",
    "a_std_minus = [np.mean(i) - np.std(i) for i in results]\n",
    "\n",
    "ax.plot(x, a_std_plus, linewidth=4, color='dodgerblue', linestyle=':')\n",
    "ax.plot(x, a_std_minus, linewidth=4, color='dodgerblue', linestyle=':')\n",
    "ax.plot(x, a_0, linewidth=7, marker='X', markersize=20, markerfacecolor='greenyellow')\n",
    "ax.fill_between(x, a_std_minus, a_std_plus, facecolor='azure')\n",
    "\n",
    "plt.title(\"Зависимость f1 от кол-ва признаков\", fontsize=30)\n",
    "plt.xlabel('features count', fontsize=25)\n",
    "plt.ylabel('f1', fontsize=25)\n",
    "plt.xlim([1,len(results)])\n",
    "\n",
    "ax.grid(which='major', color='black', linewidth=1)\n",
    "ax.xaxis.set_major_locator(ticker.MultipleLocator(1))\n",
    "ax.tick_params(labelsize = 15)\n",
    "\n",
    "plt.show()"
   ]
  },
  {
   "cell_type": "markdown",
   "metadata": {},
   "source": [
    "## сохранение отобранных признаков в файл"
   ]
  },
  {
   "cell_type": "code",
   "execution_count": 1,
   "metadata": {
    "ExecuteTime": {
     "end_time": "2023-03-03T15:13:56.269644Z",
     "start_time": "2023-03-03T15:13:56.265046Z"
    },
    "scrolled": false
   },
   "outputs": [],
   "source": [
    "#отбор top-фичей\n",
    "feature_select = list(features_lgb[:9])\n",
    "print('top отобранных признаков (без добавления hot-вектора):')\n",
    "display(pd.DataFrame(feature_select, columns=['top-features']))\n",
    "# #добавление к отобранных фичам hot-вектора (ПРИНУДИТЕЛЬНО)\n",
    "# for i in features_hot: \n",
    "#     if i not in features: features.append(i)\n",
    "#сохранение отобранных фичей        \n",
    "with open('data_pl/features.pickle', 'wb') as f:\n",
    "    pickle.dump(feature_select, f)"
   ]
  },
  {
   "cell_type": "markdown",
   "metadata": {},
   "source": [
    "## вывод отобранных признаков"
   ]
  },
  {
   "cell_type": "code",
   "execution_count": 2,
   "metadata": {
    "ExecuteTime": {
     "end_time": "2023-03-03T15:14:02.255314Z",
     "start_time": "2023-03-03T15:14:02.251853Z"
    }
   },
   "outputs": [],
   "source": [
    "X_train, y_train = data_train[feature_select], data_train['target']\n",
    "X_test, y_test = data_val[feature_select], data_val['target']\n",
    "\n",
    "categories_index = [i for i in range(len(X_train.columns)) if X_train.columns[i] in cat_f]\n",
    "if len(categories_index) == 0: categories_index = 'auto'\n",
    "#-----------------------------------------------------------------------------------------\n",
    "model = LGBMClassifier(random_state=123, n_jobs=32, importance_type='gain')\n",
    "model.fit(X_train, y_train, categorical_feature=categories_index)\n",
    "# model = lgb(random_state=123, n_jobs=32)\n",
    "# model = lgb.train(X_train, y_train, categorical_feature=categories_index)\n",
    "#-----------------------------------------------------------------------------------------\n",
    "description = pd.read_excel('all_feature_description.xlsx')\n",
    "\n",
    "desc = [[i, j] for i,j in zip(X_train.columns, model.feature_importances_) ] #if j != 0\n",
    "desc = pd.DataFrame(desc, columns=['feature', 'importance']).sort_values(by='importance', ascending=False)\n",
    "desc = pd.merge(desc, description, how='left', left_on='feature', right_on='variable').iloc[:,[0,1,3]]\n",
    "\n",
    "desc.to_csv('data_pl/feature_select.csv', index=False, encoding='cp1251', sep=';')\n",
    "desc"
   ]
  },
  {
   "cell_type": "markdown",
   "metadata": {},
   "source": [
    "# проводим альтернативное моделирование c тестом на отложенной от всего датасета выборке"
   ]
  },
  {
   "cell_type": "code",
   "execution_count": 20,
   "metadata": {
    "ExecuteTime": {
     "end_time": "2022-11-22T11:21:03.294152Z",
     "start_time": "2022-11-22T11:02:53.644722Z"
    }
   },
   "outputs": [
    {
     "name": "stdout",
     "output_type": "stream",
     "text": [
      "RF: 0.572343 (0.002173)\n",
      "XGB: 0.462795 (0.001473)\n",
      "LGB: 0.478304 (0.000965)\n",
      "CAT: 0.491611 (0.000642)\n"
     ]
    },
    {
     "data": {
      "image/png": "[encoded data removed]",
      "text/plain": [
       "<Figure size 792x432 with 1 Axes>"
      ]
     },
     "metadata": {
      "needs_background": "light"
     },
     "output_type": "display_data"
    }
   ],
   "source": [
    "# 5min\n",
    "\n",
    "X_train, y_train = data_train[feature_select], data_train['target']\n",
    "X_test, y_test = data_val[feature_select], data_val['target']\n",
    "\n",
    "cat_f, numeric_f, date_f = types(X_train)\n",
    "categories_index = [i for i in range(len(X_train.columns)) if X_train.columns[i] in cat_f]\n",
    "if len(categories_index) == 0: categories_index='auto'\n",
    "categories = [i for i in X_train.columns if i in cat_f]\n",
    "\n",
    "\n",
    "# to feed the random state\n",
    "seed = 7\n",
    "\n",
    "# prepare models\n",
    "models = []\n",
    "models.append(('RF',   RandomForestClassifier()))\n",
    "models.append(('XGB',  XGBClassifier()))\n",
    "models.append(('LGB',  LGBMClassifier(n_jobs=64)))\n",
    "models.append(('CAT',  CatBoostClassifier(verbose=False)))\n",
    "\n",
    "# evaluate each model in turn\n",
    "results = []\n",
    "names = []\n",
    "scoring = 'f1'\n",
    "\n",
    "for name, model in models:\n",
    "        kfold = KFold(n_splits=4, random_state=seed)\n",
    "        cv_results = cross_val_score(model, X_train, y_train, cv=kfold, scoring=scoring)\n",
    "        results.append(cv_results)\n",
    "        names.append(name)\n",
    "        msg = \"%s: %f (%f)\" % (name, cv_results.mean(), cv_results.std())\n",
    "        print(msg)\n",
    "        \n",
    "# boxplot algorithm comparison\n",
    "fig = plt.figure(figsize=(11,6))\n",
    "fig.suptitle('Algorithm Comparison')\n",
    "ax = fig.add_subplot(111)\n",
    "plt.boxplot(results)\n",
    "ax.set_xticklabels(names)\n",
    "plt.show()"
   ]
  },
  {
   "cell_type": "markdown",
   "metadata": {},
   "source": [
    "# выбранная модель"
   ]
  },
  {
   "cell_type": "markdown",
   "metadata": {
    "ExecuteTime": {
     "end_time": "2022-07-26T10:53:43.777399Z",
     "start_time": "2022-07-26T10:53:43.721978Z"
    }
   },
   "source": [
    "## подбор наиболее оптимального CV-фолдирования для подбора гипер-параметров"
   ]
  },
  {
   "cell_type": "markdown",
   "metadata": {},
   "source": [
    "##### сетка гиперпараметров для различных моделей"
   ]
  },
  {
   "cell_type": "code",
   "execution_count": 21,
   "metadata": {
    "ExecuteTime": {
     "end_time": "2022-11-22T11:21:03.299108Z",
     "start_time": "2022-11-22T11:21:03.296153Z"
    }
   },
   "outputs": [],
   "source": [
    "# model = LGBMClassifier(random_state=123, n_jobs=-1) \n",
    "# param_grid = {  'subsample': np.arange(0.5, 1.01, 0.1),\n",
    "#                 'reg_lambda': np.arange(0.05,0.7,0.05),       \n",
    "#                 'n_estimators': np.arange(50,250,10),    \n",
    "#                 'max_depth': np.arange(3,8,1),                \n",
    "#                 'learning_rate': np.arange(0.05,0.7,0.05),               \n",
    "#                 'is_unbalance': [False,True]\n",
    "#              }\n",
    "# fit_params = {'categorical_feature': categories_index}\n",
    "# ----------------------------------------------------------------\n",
    "# model = RandomForestClassifier(random_state= 123, n_jobs=-1)\n",
    "# param_grid = {  'n_estimators': np.arange(50,350,10),      # число деревьев\n",
    "#                 'max_features': ['log2', 'sqrt'],          # число признаков для выбора расщепления\n",
    "#                 'max_depth': np.arange(3,8,1),             # максимальная глубина деревьев\n",
    "#                 'bootstrap': [False,True],                 # использование для построения деревьев подвыборки с возвращением\n",
    "#                 'min_samples_split': np.arange(2,50,2),    # минимальное число объектов, необходимое для того, чтобы узел дерева мог бы расщепиться\n",
    "#                 'min_samples_leaf': np.arange(2,50,2)      # минимальное число объектов в листьях\n",
    "#              }\n",
    "# X_train.fillna(-909, inplace=True)\n",
    "# X_test.fillna(-909, inplace=True)\n",
    "# ----------------------------------------------------------------\n",
    "# model = DecisionTreeClassifier(random_state= 123)\n",
    "# param_grid = {  'min_samples_split': range(1,10),\n",
    "#                 'max_leaf_nodes': list(range(1,200)),  \n",
    "#                 'max_depth': range(1,20),\n",
    "#                 'class_weight' : [{0: 1, 1: 1}, {0: 1, 1: 3}, {0: 1, 1: 6}, {0: 1, 1: 9}]\n",
    "#              }\n",
    "# X_train.fillna(-909, inplace=True)\n",
    "# X_test.fillna(-909, inplace=True)"
   ]
  },
  {
   "cell_type": "markdown",
   "metadata": {},
   "source": [
    "##### откладываем валидационную выборку по времени"
   ]
  },
  {
   "cell_type": "code",
   "execution_count": 22,
   "metadata": {
    "ExecuteTime": {
     "end_time": "2022-11-22T11:21:03.306341Z",
     "start_time": "2022-11-22T11:21:03.300596Z"
    }
   },
   "outputs": [],
   "source": [
    "data_0 = pd.concat([data_train[['report_dt', 'client_id', 'target']+feature_select],\n",
    "                    data_val[['report_dt', 'client_id', 'target']+feature_select]\n",
    "                   ])\n",
    "\n",
    "#-----------------формирование тестовой и обучающей выборок-----------------\n",
    "test_index = pd.to_datetime(data_0['report_dt'])  \n",
    "last_months = sorted(test_index.unique())[-2:]\n",
    "test_index = data_0[test_index.isin(last_months)].index #последний месяц для теста\n",
    "train_index = list(set(data_0.index) - set(test_index))\n",
    "\n",
    "data_0.sort_values(['report_dt', 'client_id'], inplace=True)\n",
    "X_train = data_0.loc[train_index, feature_select]\n",
    "X_test  = data_0.loc[test_index,  feature_select]\n",
    "y_train = data_0.loc[train_index, 'target']\n",
    "y_test  = data_0.loc[test_index,  'target']\n",
    "\n",
    "groups     =     data_0.loc[train_index, 'report_dt']           #for GroupKFold\n",
    "fold_count = len(data_0.loc[train_index, 'report_dt'].unique()) #for GroupKFold  \n",
    "\n",
    "cat_f, numeric_f, date_f = types(X_train)\n",
    "categories_index = [i for i in range(len(X_train.columns)) if X_train.columns[i] in cat_f]\n",
    "if len(categories_index) == 0: categories_index='auto'\n",
    "    \n",
    "print('x_train shape: ', X_train.shape)\n",
    "print('x_test shape:  ', X_test.shape)"
   ]
  },
  {
   "cell_type": "markdown",
   "metadata": {},
   "source": [
    "##### тестирования различных типов фолдирования"
   ]
  },
  {
   "cell_type": "code",
   "execution_count": 27,
   "metadata": {
    "ExecuteTime": {
     "end_time": "2022-11-22T11:22:16.551051Z",
     "start_time": "2022-11-22T11:22:16.545793Z"
    },
    "scrolled": false
   },
   "outputs": [],
   "source": [
    "# 1h\n",
    "\n",
    "#-----------------цикл обучения модели с разными CV-----------------\n",
    "model = RandomForestClassifier(random_state= 123, n_jobs=-1)\n",
    "param_grid = {  'n_estimators': np.arange(50,350,10),      # число деревьев\n",
    "                'max_features': ['log2', 'sqrt'],          # число признаков для выбора расщепления\n",
    "                'max_depth': np.arange(3,8,1),             # максимальная глубина деревьев\n",
    "                'bootstrap': [False,True],                 # использование для построения деревьев подвыборки с возвращением\n",
    "                'min_samples_split': np.arange(2,50,2),    # минимальное число объектов, необходимое для того, чтобы узел дерева мог бы расщепиться\n",
    "                'min_samples_leaf': np.arange(2,50,2)      # минимальное число объектов в листьях\n",
    "             }\n",
    "#-------------------------------------------------------------------\n",
    "cv_list = {  'ShuffleSplit': ShuffleSplit(n_splits=4),\n",
    "             'GroupKFold': GroupKFold(n_splits=fold_count).split(X_train, y_train, groups),\n",
    "             'TimeSeriesSplit': TimeSeriesSplit(n_splits=4)\n",
    "          }\n",
    "#-------------------------------------------------------------------\n",
    "for cv_i in cv_list:\n",
    "    print('\\n', '-'*30, cv_i, '-'*30)\n",
    "    grid = RandomizedSearchCV(model, param_distributions=param_grid, cv=cv_list[cv_i], scoring='f1', n_iter=30, n_jobs=4, random_state=123, verbose=1) #, fit_params=fit_params\n",
    "    grid.fit(X_train, np.array(y_train).ravel())\n",
    "    y_pred = grid.predict(X_test)\n",
    "    y_pr_prob = grid.predict_proba(X_test)[:,1]\n",
    "\n",
    "    print( 'best params: \\n', grid.best_params_)\n",
    "    print( '\\nconfusion matrix: \\n', confusion_matrix(y_test, y_pred) )\n",
    "    print( '\\nf1: ', round(f1_score(y_test, y_pred), 4) )\n",
    "    print( '\\nauc: ', round(roc_auc_score(y_test, y_pr_prob), 4) )\n",
    "    print( \"\\ngini: {:.2f}\\n\".format(  round(roc_auc_score(y_test, y_pr_prob)*2-1,4)  ) )\n",
    "\n",
    "    cv = TimeSeriesSplit(n_splits=4)\n",
    "    model = grid.best_estimator_\n",
    "    print( 'точность на кросс-валидации где cv=TimeSeriesSplit:' )\n",
    "    print( 'auc: ', np.round(cross_val_score(model, X_test, y_test, cv=cv), 2) )\n",
    "    print( 'f1: ', np.round(cross_val_score(model, X_test, y_test, cv=cv, scoring='f1'), 2) )"
   ]
  },
  {
   "cell_type": "markdown",
   "metadata": {},
   "source": [
    "## обучение модели"
   ]
  },
  {
   "cell_type": "markdown",
   "metadata": {
    "ExecuteTime": {
     "end_time": "2022-09-13T07:36:52.280935Z",
     "start_time": "2022-09-13T07:36:52.277993Z"
    }
   },
   "source": [
    "### по метрике auc"
   ]
  },
  {
   "cell_type": "code",
   "execution_count": 28,
   "metadata": {
    "ExecuteTime": {
     "end_time": "2022-11-22T11:40:04.431611Z",
     "start_time": "2022-11-22T11:22:18.205564Z"
    }
   },
   "outputs": [
    {
     "name": "stdout",
     "output_type": "stream",
     "text": [
      "\n",
      " ------------------------------ TimeSeriesSplit ------------------------------\n",
      "Fitting 4 folds for each of 30 candidates, totalling 120 fits\n"
     ]
    },
    {
     "name": "stderr",
     "output_type": "stream",
     "text": [
      "[Parallel(n_jobs=-1)]: Using backend LokyBackend with 16 concurrent workers.\n",
      "[Parallel(n_jobs=-1)]: Done  18 tasks      | elapsed:  2.5min\n",
      "[Parallel(n_jobs=-1)]: Done 120 out of 120 | elapsed: 17.5min finished\n"
     ]
    },
    {
     "name": "stdout",
     "output_type": "stream",
     "text": [
      "best params: \n",
      " {'n_estimators': 110, 'min_samples_split': 20, 'min_samples_leaf': 48, 'max_features': 'sqrt', 'max_depth': 7, 'bootstrap': True}\n",
      "\n",
      "train-metrics:\n",
      "f1:  0.4525\n",
      "auc:  0.9012\n",
      "gini: 0.80\n",
      "\n"
     ]
    }
   ],
   "source": [
    "X_train, y_train = data_train[feature_select], data_train['target']\n",
    "\n",
    "categories_index = [i for i in range(len(X_train.columns)) if X_train.columns[i] in cat_f]\n",
    "if len(categories_index) == 0: categories_index = 'auto'\n",
    "#-----------------------------------------------------------------------------------------\n",
    "model = RandomForestClassifier(random_state= 123, n_jobs=32)\n",
    "\n",
    "print('\\n', '-'*30, 'TimeSeriesSplit', '-'*30)\n",
    "grid = RandomizedSearchCV(model, param_distributions=param_grid, cv=TimeSeriesSplit(n_splits=4), scoring='accuracy', n_iter=30, n_jobs=-1, random_state=123, verbose=1) #, fit_params=fit_params\n",
    "grid.fit(X_train, np.array(y_train).ravel())\n",
    "\n",
    "print( 'best params: \\n', grid.best_params_)\n",
    "model = grid.best_estimator_\n",
    "\n",
    "print('\\ntrain-metrics:')\n",
    "y_pred = model.predict(X_train)\n",
    "y_pr_prob = model.predict_proba(X_train)[:,1]\n",
    "print( 'f1: ', round(f1_score(y_train, y_pred), 4) )\n",
    "print( 'auc: ', round(roc_auc_score(y_train, y_pr_prob), 4) )\n",
    "print( \"gini: {:.2f}\\n\".format(  round(roc_auc_score(y_train, y_pr_prob)*2-1,4)  ) )\n",
    "\n",
    "# сохранение данной модели\n",
    "with open('data_pl/train_model_auc.pickle', 'wb') as f:\n",
    "    pickle.dump(model, f)"
   ]
  },
  {
   "cell_type": "markdown",
   "metadata": {},
   "source": [
    "### по метрике f1"
   ]
  },
  {
   "cell_type": "code",
   "execution_count": 30,
   "metadata": {
    "ExecuteTime": {
     "end_time": "2022-11-22T12:07:43.514680Z",
     "start_time": "2022-11-22T11:45:44.696890Z"
    }
   },
   "outputs": [
    {
     "name": "stdout",
     "output_type": "stream",
     "text": [
      "\n",
      " ------------------------------ TimeSeriesSplit ------------------------------\n",
      "Fitting 4 folds for each of 30 candidates, totalling 120 fits\n"
     ]
    },
    {
     "name": "stderr",
     "output_type": "stream",
     "text": [
      "[Parallel(n_jobs=-1)]: Using backend LokyBackend with 16 concurrent workers.\n",
      "[Parallel(n_jobs=-1)]: Done  18 tasks      | elapsed:  2.4min\n",
      "[Parallel(n_jobs=-1)]: Done 120 out of 120 | elapsed: 21.3min finished\n"
     ]
    },
    {
     "name": "stdout",
     "output_type": "stream",
     "text": [
      "best params: \n",
      " {'n_estimators': 230, 'min_samples_split': 2, 'min_samples_leaf': 8, 'max_features': 'sqrt', 'max_depth': 7, 'bootstrap': False}\n",
      "\n",
      "train-metrics:\n",
      "f1:  0.4525\n",
      "auc:  0.9013\n",
      "gini: 0.80\n",
      "\n"
     ]
    }
   ],
   "source": [
    "model = RandomForestClassifier(random_state= 123, n_jobs=32)\n",
    "\n",
    "print('\\n', '-'*30, 'TimeSeriesSplit', '-'*30)\n",
    "grid = RandomizedSearchCV(model, param_distributions=param_grid, cv=TimeSeriesSplit(n_splits=4), scoring='f1', n_iter=30, n_jobs=-1, random_state=123, verbose=1) #, fit_params=fit_params\n",
    "grid.fit(X_train, np.array(y_train).ravel())\n",
    "\n",
    "print( 'best params: \\n', grid.best_params_)\n",
    "model = grid.best_estimator_\n",
    "\n",
    "print('\\ntrain-metrics:')\n",
    "y_pred = model.predict(X_train)\n",
    "y_pr_prob = model.predict_proba(X_train)[:,1]\n",
    "print( 'f1: ', round(f1_score(y_train, y_pred), 4) )\n",
    "print( 'auc: ', round(roc_auc_score(y_train, y_pr_prob), 4) )\n",
    "print( \"gini: {:.2f}\\n\".format(  round(roc_auc_score(y_train, y_pr_prob)*2-1,4)  ) )"
   ]
  },
  {
   "cell_type": "markdown",
   "metadata": {},
   "source": [
    "### определение порога принятия решения"
   ]
  },
  {
   "cell_type": "code",
   "execution_count": 42,
   "metadata": {
    "ExecuteTime": {
     "end_time": "2022-11-22T12:12:39.142502Z",
     "start_time": "2022-11-22T12:10:50.996532Z"
    },
    "scrolled": false
   },
   "outputs": [
    {
     "name": "stderr",
     "output_type": "stream",
     "text": [
      "100%|██████████| 19/19 [01:48<00:00,  5.69s/it]\n"
     ]
    },
    {
     "data": {
      "text/html": [
       "<div>\n",
       "<style scoped>\n",
       "    .dataframe tbody tr th:only-of-type {\n",
       "        vertical-align: middle;\n",
       "    }\n",
       "\n",
       "    .dataframe tbody tr th {\n",
       "        vertical-align: top;\n",
       "    }\n",
       "\n",
       "    .dataframe thead th {\n",
       "        text-align: right;\n",
       "    }\n",
       "</style>\n",
       "<table border=\"1\" class=\"dataframe\">\n",
       "  <thead>\n",
       "    <tr style=\"text-align: right;\">\n",
       "      <th></th>\n",
       "      <th>threshold</th>\n",
       "      <th>gini</th>\n",
       "      <th>f1</th>\n",
       "      <th>precision</th>\n",
       "      <th>recall</th>\n",
       "      <th>client_count_with_predict</th>\n",
       "    </tr>\n",
       "  </thead>\n",
       "  <tbody>\n",
       "    <tr>\n",
       "      <th>0</th>\n",
       "      <td>0.05</td>\n",
       "      <td>0.8</td>\n",
       "      <td>0.39</td>\n",
       "      <td>0.25</td>\n",
       "      <td>0.92</td>\n",
       "      <td>114950</td>\n",
       "    </tr>\n",
       "    <tr>\n",
       "      <th>1</th>\n",
       "      <td>0.10</td>\n",
       "      <td>0.8</td>\n",
       "      <td>0.48</td>\n",
       "      <td>0.34</td>\n",
       "      <td>0.83</td>\n",
       "      <td>70528</td>\n",
       "    </tr>\n",
       "    <tr>\n",
       "      <th>2</th>\n",
       "      <td>0.15</td>\n",
       "      <td>0.8</td>\n",
       "      <td>0.52</td>\n",
       "      <td>0.38</td>\n",
       "      <td>0.79</td>\n",
       "      <td>58795</td>\n",
       "    </tr>\n",
       "    <tr>\n",
       "      <th>3</th>\n",
       "      <td>0.20</td>\n",
       "      <td>0.8</td>\n",
       "      <td>0.54</td>\n",
       "      <td>0.44</td>\n",
       "      <td>0.71</td>\n",
       "      <td>44946</td>\n",
       "    </tr>\n",
       "    <tr>\n",
       "      <th>4</th>\n",
       "      <td>0.25</td>\n",
       "      <td>0.8</td>\n",
       "      <td>0.55</td>\n",
       "      <td>0.47</td>\n",
       "      <td>0.67</td>\n",
       "      <td>39613</td>\n",
       "    </tr>\n",
       "    <tr>\n",
       "      <th>5</th>\n",
       "      <td>0.30</td>\n",
       "      <td>0.8</td>\n",
       "      <td>0.55</td>\n",
       "      <td>0.50</td>\n",
       "      <td>0.62</td>\n",
       "      <td>34861</td>\n",
       "    </tr>\n",
       "    <tr>\n",
       "      <th>6</th>\n",
       "      <td>0.35</td>\n",
       "      <td>0.8</td>\n",
       "      <td>0.55</td>\n",
       "      <td>0.52</td>\n",
       "      <td>0.59</td>\n",
       "      <td>31345</td>\n",
       "    </tr>\n",
       "    <tr>\n",
       "      <th>7</th>\n",
       "      <td>0.40</td>\n",
       "      <td>0.8</td>\n",
       "      <td>0.53</td>\n",
       "      <td>0.56</td>\n",
       "      <td>0.49</td>\n",
       "      <td>24399</td>\n",
       "    </tr>\n",
       "    <tr>\n",
       "      <th>8</th>\n",
       "      <td>0.45</td>\n",
       "      <td>0.8</td>\n",
       "      <td>0.47</td>\n",
       "      <td>0.60</td>\n",
       "      <td>0.38</td>\n",
       "      <td>18751</td>\n",
       "    </tr>\n",
       "    <tr>\n",
       "      <th>9</th>\n",
       "      <td>0.50</td>\n",
       "      <td>0.8</td>\n",
       "      <td>0.45</td>\n",
       "      <td>0.61</td>\n",
       "      <td>0.36</td>\n",
       "      <td>17069</td>\n",
       "    </tr>\n",
       "    <tr>\n",
       "      <th>10</th>\n",
       "      <td>0.55</td>\n",
       "      <td>0.8</td>\n",
       "      <td>0.41</td>\n",
       "      <td>0.63</td>\n",
       "      <td>0.31</td>\n",
       "      <td>13745</td>\n",
       "    </tr>\n",
       "    <tr>\n",
       "      <th>11</th>\n",
       "      <td>0.60</td>\n",
       "      <td>0.8</td>\n",
       "      <td>0.18</td>\n",
       "      <td>0.70</td>\n",
       "      <td>0.10</td>\n",
       "      <td>4384</td>\n",
       "    </tr>\n",
       "    <tr>\n",
       "      <th>12</th>\n",
       "      <td>0.65</td>\n",
       "      <td>0.8</td>\n",
       "      <td>0.00</td>\n",
       "      <td>0.00</td>\n",
       "      <td>0.00</td>\n",
       "      <td>0</td>\n",
       "    </tr>\n",
       "    <tr>\n",
       "      <th>13</th>\n",
       "      <td>0.70</td>\n",
       "      <td>0.8</td>\n",
       "      <td>0.00</td>\n",
       "      <td>0.00</td>\n",
       "      <td>0.00</td>\n",
       "      <td>0</td>\n",
       "    </tr>\n",
       "    <tr>\n",
       "      <th>14</th>\n",
       "      <td>0.75</td>\n",
       "      <td>0.8</td>\n",
       "      <td>0.00</td>\n",
       "      <td>0.00</td>\n",
       "      <td>0.00</td>\n",
       "      <td>0</td>\n",
       "    </tr>\n",
       "    <tr>\n",
       "      <th>15</th>\n",
       "      <td>0.80</td>\n",
       "      <td>0.8</td>\n",
       "      <td>0.00</td>\n",
       "      <td>0.00</td>\n",
       "      <td>0.00</td>\n",
       "      <td>0</td>\n",
       "    </tr>\n",
       "    <tr>\n",
       "      <th>16</th>\n",
       "      <td>0.85</td>\n",
       "      <td>0.8</td>\n",
       "      <td>0.00</td>\n",
       "      <td>0.00</td>\n",
       "      <td>0.00</td>\n",
       "      <td>0</td>\n",
       "    </tr>\n",
       "    <tr>\n",
       "      <th>17</th>\n",
       "      <td>0.90</td>\n",
       "      <td>0.8</td>\n",
       "      <td>0.00</td>\n",
       "      <td>0.00</td>\n",
       "      <td>0.00</td>\n",
       "      <td>0</td>\n",
       "    </tr>\n",
       "    <tr>\n",
       "      <th>18</th>\n",
       "      <td>0.95</td>\n",
       "      <td>0.8</td>\n",
       "      <td>0.00</td>\n",
       "      <td>0.00</td>\n",
       "      <td>0.00</td>\n",
       "      <td>0</td>\n",
       "    </tr>\n",
       "  </tbody>\n",
       "</table>\n",
       "</div>"
      ],
      "text/plain": [
       "    threshold  gini    f1  precision  recall  client_count_with_predict\n",
       "0        0.05   0.8  0.39       0.25    0.92                     114950\n",
       "1        0.10   0.8  0.48       0.34    0.83                      70528\n",
       "2        0.15   0.8  0.52       0.38    0.79                      58795\n",
       "3        0.20   0.8  0.54       0.44    0.71                      44946\n",
       "4        0.25   0.8  0.55       0.47    0.67                      39613\n",
       "5        0.30   0.8  0.55       0.50    0.62                      34861\n",
       "6        0.35   0.8  0.55       0.52    0.59                      31345\n",
       "7        0.40   0.8  0.53       0.56    0.49                      24399\n",
       "8        0.45   0.8  0.47       0.60    0.38                      18751\n",
       "9        0.50   0.8  0.45       0.61    0.36                      17069\n",
       "10       0.55   0.8  0.41       0.63    0.31                      13745\n",
       "11       0.60   0.8  0.18       0.70    0.10                       4384\n",
       "12       0.65   0.8  0.00       0.00    0.00                          0\n",
       "13       0.70   0.8  0.00       0.00    0.00                          0\n",
       "14       0.75   0.8  0.00       0.00    0.00                          0\n",
       "15       0.80   0.8  0.00       0.00    0.00                          0\n",
       "16       0.85   0.8  0.00       0.00    0.00                          0\n",
       "17       0.90   0.8  0.00       0.00    0.00                          0\n",
       "18       0.95   0.8  0.00       0.00    0.00                          0"
      ]
     },
     "metadata": {},
     "output_type": "display_data"
    },
    {
     "name": "stdout",
     "output_type": "stream",
     "text": [
      "CPU times: user 17min 55s, sys: 0 ns, total: 17min 55s\n",
      "Wall time: 1min 48s\n"
     ]
    }
   ],
   "source": [
    "%%time\n",
    "vers = []\n",
    "for i in tqdm(np.arange(0.05, 1, 0.05)):\n",
    "\n",
    "    y_pred = model.predict_proba(X_train)[:,1] > i\n",
    "    y_pr_prob = model.predict_proba(X_train)[:,1]\n",
    "    \n",
    "    gini_i = round(roc_auc_score(y_train, y_pr_prob)*2-1, 2)\n",
    "    f1_i = round(f1_score(y_train, y_pred), 2)\n",
    "    precision_i = round(precision_score(y_train, y_pred), 2)\n",
    "    recall_i = round(recall_score(y_train, y_pred), 2)\n",
    "    client_count_i = len(data_train.loc[X_train.iloc[y_pred].index].client_id.unique())\n",
    "\n",
    "    vers.append([i, gini_i, f1_i, precision_i, recall_i, client_count_i])\n",
    "    \n",
    "show = pd.DataFrame(vers, columns=['threshold', 'gini', 'f1', 'precision', 'recall', 'client_count_with_predict'])\n",
    "display(show)"
   ]
  },
  {
   "cell_type": "code",
   "execution_count": 43,
   "metadata": {
    "ExecuteTime": {
     "end_time": "2022-11-22T12:12:43.825537Z",
     "start_time": "2022-11-22T12:12:43.819368Z"
    }
   },
   "outputs": [
    {
     "name": "stdout",
     "output_type": "stream",
     "text": [
      "my threshold:  0.25\n"
     ]
    }
   ],
   "source": [
    "my_threshold = show[show.f1==show.f1.max()].threshold.iloc[0]\n",
    "print('my threshold: ', my_threshold)"
   ]
  },
  {
   "cell_type": "markdown",
   "metadata": {},
   "source": [
    "## тестирование"
   ]
  },
  {
   "cell_type": "markdown",
   "metadata": {},
   "source": [
    "### точность на OOS-выборке"
   ]
  },
  {
   "cell_type": "code",
   "execution_count": 44,
   "metadata": {
    "ExecuteTime": {
     "end_time": "2022-11-22T12:13:08.613105Z",
     "start_time": "2022-11-22T12:12:56.238847Z"
    }
   },
   "outputs": [
    {
     "name": "stdout",
     "output_type": "stream",
     "text": [
      "\n",
      "test-metrics:\n",
      "\n",
      "confusion matrix: \n",
      " [[104811   9340]\n",
      " [  4230   8508]]\n",
      "\n",
      "auc:  0.9027\n",
      "gini: 0.81\n",
      "f1:  0.5563\n",
      "точность на кросс-валидации где cv=TimeSeriesSplit:\n",
      "auc:  [0.91 0.91 0.92 0.92]\n",
      "f1:  [0.41 0.45 0.47 0.44]\n"
     ]
    },
    {
     "data": {
      "image/png": "[encoded data removed]",
      "text/plain": [
       "<Figure size 1440x720 with 2 Axes>"
      ]
     },
     "metadata": {
      "needs_background": "light"
     },
     "output_type": "display_data"
    }
   ],
   "source": [
    "with open('data_pl/train_model_auc.pickle', 'rb') as f:\n",
    "    model = pickle.load(f)\n",
    "    \n",
    "X_test, y_test = data_val[feature_select], data_val['target']\n",
    "\n",
    "print('\\ntest-metrics:')\n",
    "y_pred = (model.predict_proba(X_test)[:,1] > my_threshold)*1 #model.predict(X_test)\n",
    "y_pr_prob = model.predict_proba(X_test)[:,1]\n",
    "\n",
    "print( '\\nconfusion matrix: \\n', confusion_matrix(y_test, y_pred) )\n",
    "print( '\\nauc: ', round(roc_auc_score(y_test, y_pr_prob), 4) )\n",
    "print( 'gini: {:.2f}'.format(  round(roc_auc_score(y_test, y_pr_prob)*2-1,4)  ) )\n",
    "print( 'f1: ', round(f1_score(y_test, y_pred), 4) )\n",
    "\n",
    "print( 'точность на кросс-валидации где cv=TimeSeriesSplit:' )\n",
    "print( 'auc: ', np.round(cross_val_score(model, X_test, y_test, cv=TimeSeriesSplit(n_splits=4)), 2) )\n",
    "print( 'f1: ', np.round(cross_val_score(model, X_test, y_test, cv=TimeSeriesSplit(n_splits=4), scoring='f1'), 2) )\n",
    "\n",
    "#------------------------------------------------------------------------------------------------------------------------------\n",
    "ax = plt.figure(figsize = (20,10))\n",
    "\n",
    "fpr_best, tpr_best, _ = roc_curve(y_test, y_pr_prob)\n",
    "roc_auc = auc(fpr_best, tpr_best)\n",
    "ax1 = ax.add_subplot(121)\n",
    "ax1.plot(fpr_best, tpr_best, color='c', linewidth=4, label='ROC AUC = %0.2f' %roc_auc)\n",
    "ax1.title.set_text(\"ROC AUC (Gini = %0.2f)\" %(roc_auc*2 - 1))\n",
    "ax1.plot([0, 1], [0, 1], 'k--', label='Random')\n",
    "ax1.set_xlim([0.0, 1.0])\n",
    "ax1.set_ylim([0.0, 1.0])\n",
    "ax1.set_xlabel('False Positive Rate')\n",
    "ax1.set_ylabel('True Positive Rate')\n",
    "ax1.legend(loc=\"lower right\")\n",
    "\n",
    "precision, recall, _ = precision_recall_curve(y_test, y_pr_prob)\n",
    "ax2 = ax.add_subplot(122)\n",
    "ax2.plot(recall, precision, color='c', linewidth=4)\n",
    "ax2.set_xlabel('recall')\n",
    "ax2.set_ylabel('precision')\n",
    "ax2.title.set_text('precision_recall_curve')\n",
    "\n",
    "plt.show()"
   ]
  },
  {
   "cell_type": "markdown",
   "metadata": {},
   "source": [
    "### точность на OOT-выборке"
   ]
  },
  {
   "cell_type": "code",
   "execution_count": 45,
   "metadata": {
    "ExecuteTime": {
     "end_time": "2022-11-22T12:13:27.351999Z",
     "start_time": "2022-11-22T12:13:08.615626Z"
    }
   },
   "outputs": [
    {
     "name": "stdout",
     "output_type": "stream",
     "text": [
      "\n",
      "test-metrics:\n",
      "\n",
      "confusion matrix: \n",
      " [[264602  26747]\n",
      " [  1149   2991]]\n",
      "\n",
      "auc:  0.9139\n",
      "gini: 0.83\n",
      "f1:  0.1766\n",
      "точность на кросс-валидации где cv=TimeSeriesSplit:\n",
      "auc:  [0.99 0.99 0.99 0.99]\n",
      "f1:  [0. 0. 0. 0.]\n"
     ]
    },
    {
     "data": {
      "image/png": "[encoded data removed]",
      "text/plain": [
       "<Figure size 1440x720 with 2 Axes>"
      ]
     },
     "metadata": {
      "needs_background": "light"
     },
     "output_type": "display_data"
    }
   ],
   "source": [
    "with open('data_pl/train_model_auc.pickle', 'rb') as f:\n",
    "    model = pickle.load(f)\n",
    "    \n",
    "X_test, y_test = data_test[feature_select], data_test['target']\n",
    "\n",
    "print('\\ntest-metrics:')\n",
    "y_pred = model.predict_proba(X_test)[:,1] > my_threshold #model.predict(X_test)\n",
    "y_pr_prob = model.predict_proba(X_test)[:,1]\n",
    "\n",
    "print( '\\nconfusion matrix: \\n', confusion_matrix(y_test, y_pred) )\n",
    "print( '\\nauc: ', round(roc_auc_score(y_test, y_pr_prob), 4) )\n",
    "print( 'gini: {:.2f}'.format(  round(roc_auc_score(y_test, y_pr_prob)*2-1,4)  ) )\n",
    "print( 'f1: ', round(f1_score(y_test, y_pred), 4) )\n",
    "\n",
    "print( 'точность на кросс-валидации где cv=TimeSeriesSplit:' )\n",
    "print( 'auc: ', np.round(cross_val_score(model, X_test, y_test, cv=TimeSeriesSplit(n_splits=4)), 2) )\n",
    "print( 'f1: ', np.round(cross_val_score(model, X_test, y_test, cv=TimeSeriesSplit(n_splits=4), scoring='f1'), 2) )\n",
    "\n",
    "#------------------------------------------------------------------------------------------------------------------------------\n",
    "ax = plt.figure(figsize = (20,10))\n",
    "\n",
    "fpr_best, tpr_best, _ = roc_curve(y_test, y_pr_prob)\n",
    "roc_auc = auc(fpr_best, tpr_best)\n",
    "ax1 = ax.add_subplot(121)\n",
    "ax1.plot(fpr_best, tpr_best, color='c', linewidth=4, label='ROC AUC = %0.2f' %roc_auc)\n",
    "ax1.title.set_text(\"ROC AUC (Gini = %0.2f)\" %(roc_auc*2 - 1))\n",
    "ax1.plot([0, 1], [0, 1], 'k--', label='Random')\n",
    "ax1.set_xlim([0.0, 1.0])\n",
    "ax1.set_ylim([0.0, 1.0])\n",
    "ax1.set_xlabel('False Positive Rate')\n",
    "ax1.set_ylabel('True Positive Rate')\n",
    "ax1.legend(loc=\"lower right\")\n",
    "\n",
    "precision, recall, _ = precision_recall_curve(y_test, y_pr_prob)\n",
    "ax2 = ax.add_subplot(122)\n",
    "ax2.plot(recall, precision, color='c', linewidth=4)\n",
    "ax2.set_xlabel('recall')\n",
    "ax2.set_ylabel('precision')\n",
    "ax2.title.set_text('precision_recall_curve')\n",
    "\n",
    "plt.show()"
   ]
  },
  {
   "cell_type": "markdown",
   "metadata": {},
   "source": [
    "### описание отобранных фичей сопутствующий модельный анализ"
   ]
  },
  {
   "cell_type": "markdown",
   "metadata": {},
   "source": [
    "##### feature importance ranking"
   ]
  },
  {
   "cell_type": "code",
   "execution_count": 46,
   "metadata": {
    "ExecuteTime": {
     "end_time": "2022-11-22T12:13:45.680887Z",
     "start_time": "2022-11-22T12:13:45.161462Z"
    }
   },
   "outputs": [
    {
     "data": {
      "image/png": "[encoded data removed]",
      "text/plain": [
       "<Figure size 864x360 with 1 Axes>"
      ]
     },
     "metadata": {
      "needs_background": "light"
     },
     "output_type": "display_data"
    },
    {
     "name": "stdout",
     "output_type": "stream",
     "text": [
      "CPU times: user 347 ms, sys: 35.9 ms, total: 382 ms\n",
      "Wall time: 510 ms\n"
     ]
    }
   ],
   "source": [
    "%%time\n",
    "desc = [[i, j] for i,j in zip(X_train.columns, model.feature_importances_) ] #if j != 0\n",
    "desc = pd.DataFrame(desc, columns=['feature', 'importance']).sort_values(by='importance', ascending=False)\n",
    "desc = pd.merge(desc, description, how='left', left_on='feature', right_on='variable').iloc[:,[0,1,3]]\n",
    "\n",
    "plt.rcParams[\"figure.figsize\"] = (12,5)\n",
    "ax = desc.iloc[:].plot('feature', 'importance', kind='bar', color='c')\n",
    "ax.set_title(\"Feature Importance Ranking\", fontsize=17)\n",
    "\n",
    "ax.tick_params(axis = 'y', which = 'major', pad = 2, labelsize = 16, labelcolor = 'black')   \n",
    "\n",
    "plt.xticks(range(len(desc)), desc.feature.values, rotation=45, fontsize=16)\n",
    "ax.set_xticklabels(desc.feature.values, ha='right', fontsize=17)\n",
    "\n",
    "ax.set_xlabel('')\n",
    "plt.show()"
   ]
  },
  {
   "cell_type": "code",
   "execution_count": 3,
   "metadata": {
    "ExecuteTime": {
     "end_time": "2023-03-03T15:14:21.331777Z",
     "start_time": "2023-03-03T15:14:21.328881Z"
    }
   },
   "outputs": [],
   "source": [
    "desc = [[i, j] for i,j in zip(X_train.columns, model.feature_importances_) ] #if j != 0\n",
    "desc = pd.DataFrame(desc, columns=['feature', 'importance']).sort_values(by='importance', ascending=False)\n",
    "desc = pd.merge(desc, description, how='left', left_on='feature', right_on='variable').iloc[:,[0,1,3]]\n",
    "\n",
    "plt.rcParams[\"figure.figsize\"] = (12,5)\n",
    "ax = desc.iloc[:].plot('description', 'importance', kind='bar', color='c')\n",
    "ax.set_title(\"Feature Importance Ranking\", fontsize=17)\n",
    "\n",
    "ax.tick_params(axis = 'y', which = 'major', pad = 2, labelsize = 16, labelcolor = 'black')   \n",
    "\n",
    "plt.xticks(range(len(desc)), desc.description.values, rotation=45, fontsize=16)\n",
    "ax.set_xticklabels(desc.description.values, ha='right', fontsize=17)\n",
    "\n",
    "ax.set_xlabel('')\n",
    "plt.show()"
   ]
  },
  {
   "cell_type": "markdown",
   "metadata": {},
   "source": [
    "##### корреляция отобранных признаков"
   ]
  },
  {
   "cell_type": "code",
   "execution_count": 48,
   "metadata": {
    "ExecuteTime": {
     "end_time": "2022-11-22T12:13:51.188587Z",
     "start_time": "2022-11-22T12:13:49.284347Z"
    }
   },
   "outputs": [
    {
     "name": "stdout",
     "output_type": "stream",
     "text": [
      "CPU times: user 1.06 s, sys: 1.54 s, total: 2.6 s\n",
      "Wall time: 751 ms\n"
     ]
    },
    {
     "data": {
      "text/plain": [
       "<AxesSubplot:>"
      ]
     },
     "execution_count": 48,
     "metadata": {},
     "output_type": "execute_result"
    },
    {
     "data": {
      "image/png": "[encoded data removed]",
      "text/plain": [
       "<Figure size 1224x1224 with 2 Axes>"
      ]
     },
     "metadata": {
      "needs_background": "light"
     },
     "output_type": "display_data"
    }
   ],
   "source": [
    "%%time\n",
    "T = X_train[feature_select]\n",
    "T['target'] = y_train\n",
    "corr = T.corr()\n",
    "\n",
    "plt.subplots(figsize=(17,17))\n",
    "sns.heatmap(corr, linewidths=.5, fmt='.2f', mask=np.zeros_like(corr, dtype=np.bool), \\\n",
    "           cmap=sns.diverging_palette(100,200, as_cmap=True), square=True, annot=True)    #annot=True,"
   ]
  },
  {
   "cell_type": "markdown",
   "metadata": {},
   "source": [
    "# репликация"
   ]
  },
  {
   "cell_type": "code",
   "execution_count": 49,
   "metadata": {
    "ExecuteTime": {
     "end_time": "2022-11-22T12:14:18.031858Z",
     "start_time": "2022-11-22T12:14:18.020745Z"
    }
   },
   "outputs": [],
   "source": [
    "with open('data_pl/features.pickle', 'rb') as f:\n",
    "    features_cur = pickle.load(f)\n",
    "\n",
    "with open('data_pl/train_model_auc.pickle', 'rb') as f:\n",
    "    model_сur = pickle.load(f)"
   ]
  },
  {
   "cell_type": "markdown",
   "metadata": {},
   "source": [
    "## для выборки отложенной out of time"
   ]
  },
  {
   "cell_type": "code",
   "execution_count": 50,
   "metadata": {
    "ExecuteTime": {
     "end_time": "2022-11-22T12:15:00.903096Z",
     "start_time": "2022-11-22T12:14:26.390546Z"
    }
   },
   "outputs": [
    {
     "name": "stdout",
     "output_type": "stream",
     "text": [
      "\n",
      "confusion matrix: \n",
      " [[264602  26747]\n",
      " [  1149   2991]]\n",
      "\n",
      "auc:  0.9139\n",
      "gini: 0.83\n",
      "f1:  0.1766\n"
     ]
    },
    {
     "data": {
      "text/html": [
       "<div>\n",
       "<style scoped>\n",
       "    .dataframe tbody tr th:only-of-type {\n",
       "        vertical-align: middle;\n",
       "    }\n",
       "\n",
       "    .dataframe tbody tr th {\n",
       "        vertical-align: top;\n",
       "    }\n",
       "\n",
       "    .dataframe thead th {\n",
       "        text-align: right;\n",
       "    }\n",
       "</style>\n",
       "<table border=\"1\" class=\"dataframe\">\n",
       "  <thead>\n",
       "    <tr style=\"text-align: right;\">\n",
       "      <th></th>\n",
       "      <th>cla_pl_active_last_dt</th>\n",
       "      <th>prl_client_app_income_amt</th>\n",
       "      <th>sd_age_mnth_comp_nv</th>\n",
       "      <th>crd_lst_agrmnt_osb_cd</th>\n",
       "      <th>dep_inf_payroll_rub_amt</th>\n",
       "      <th>lne_tot_issued_ever_rub_amt</th>\n",
       "      <th>pnl_oi_td_amt</th>\n",
       "      <th>seg_client_rb_segment_cd</th>\n",
       "      <th>lne_pl_clsd_wavg_intr_rate</th>\n",
       "      <th>predict_prob</th>\n",
       "      <th>target</th>\n",
       "      <th>client_dk</th>\n",
       "      <th>report_dt</th>\n",
       "    </tr>\n",
       "  </thead>\n",
       "  <tbody>\n",
       "    <tr>\n",
       "      <th>0</th>\n",
       "      <td>53.0</td>\n",
       "      <td>-99999.0</td>\n",
       "      <td>591.0</td>\n",
       "      <td>92</td>\n",
       "      <td>27275185.94</td>\n",
       "      <td>3000000.0</td>\n",
       "      <td>171761.49</td>\n",
       "      <td>5</td>\n",
       "      <td>-99999.0</td>\n",
       "      <td>0.127252</td>\n",
       "      <td>0</td>\n",
       "      <td>-1</td>\n",
       "      <td>2022-09-30</td>\n",
       "    </tr>\n",
       "    <tr>\n",
       "      <th>1</th>\n",
       "      <td>-99999.0</td>\n",
       "      <td>-99999.0</td>\n",
       "      <td>875.0</td>\n",
       "      <td>66</td>\n",
       "      <td>-99999.00</td>\n",
       "      <td>-99999.0</td>\n",
       "      <td>2304.57</td>\n",
       "      <td>5</td>\n",
       "      <td>-99999.0</td>\n",
       "      <td>0.002921</td>\n",
       "      <td>0</td>\n",
       "      <td>-1</td>\n",
       "      <td>2022-09-30</td>\n",
       "    </tr>\n",
       "  </tbody>\n",
       "</table>\n",
       "</div>"
      ],
      "text/plain": [
       "   cla_pl_active_last_dt  prl_client_app_income_amt  sd_age_mnth_comp_nv  \\\n",
       "0                   53.0                   -99999.0                591.0   \n",
       "1               -99999.0                   -99999.0                875.0   \n",
       "\n",
       "   crd_lst_agrmnt_osb_cd  dep_inf_payroll_rub_amt  \\\n",
       "0                     92              27275185.94   \n",
       "1                     66                -99999.00   \n",
       "\n",
       "   lne_tot_issued_ever_rub_amt  pnl_oi_td_amt  seg_client_rb_segment_cd  \\\n",
       "0                    3000000.0      171761.49                         5   \n",
       "1                     -99999.0        2304.57                         5   \n",
       "\n",
       "   lne_pl_clsd_wavg_intr_rate  predict_prob  target  client_dk   report_dt  \n",
       "0                    -99999.0      0.127252       0         -1  2022-09-30  \n",
       "1                    -99999.0      0.002921       0         -1  2022-09-30  "
      ]
     },
     "metadata": {},
     "output_type": "display_data"
    }
   ],
   "source": [
    "data = pd.read_csv('data_pl/all_data_loan_pl_test_oot.csv')\n",
    "y = data['target']\n",
    "X = data[features_cur]\n",
    "cat_f, numeric_f, date_f = types(X)\n",
    "X = transform_data(X, cat_f, numeric_f, date_f)\n",
    "#----------------------------------------------------------------------------\n",
    "y_pred = (model_сur.predict_proba(X)[:,1] > my_threshold)*1 #model.predict(X_test)\n",
    "y_pr_prob = model_сur.predict_proba(X)[:,1]\n",
    "print( '\\nconfusion matrix: \\n', confusion_matrix(y, y_pred) )\n",
    "print( '\\nauc: ', round(roc_auc_score(y, y_pr_prob), 4) )\n",
    "print( 'gini: {:.2f}'.format(  round(roc_auc_score(y, y_pr_prob)*2-1,4)  ) )\n",
    "print( 'f1: ', round(f1_score(y, y_pred), 4) )\n",
    "#----------------------------------------------------------------------------\n",
    "X['predict_prob'] = y_pr_prob\n",
    "X['target'] = y\n",
    "X['client_dk'] = data['client_dk']\n",
    "X['report_dt'] = data['report_dt']\n",
    "#----------------------------------------------------------------------------\n",
    "X.to_csv('data_pl/validation_predict_oot.csv', index=False)\n",
    "display(X.head(2))"
   ]
  },
  {
   "cell_type": "markdown",
   "metadata": {},
   "source": [
    "## для выборки отложенной out of sample"
   ]
  },
  {
   "cell_type": "code",
   "execution_count": 51,
   "metadata": {
    "ExecuteTime": {
     "end_time": "2022-11-22T12:15:16.921598Z",
     "start_time": "2022-11-22T12:15:00.906714Z"
    }
   },
   "outputs": [
    {
     "name": "stdout",
     "output_type": "stream",
     "text": [
      "\n",
      "confusion matrix: \n",
      " [[104811   9340]\n",
      " [  4230   8508]]\n",
      "\n",
      "auc:  0.9027\n",
      "gini: 0.81\n",
      "f1:  0.5563\n"
     ]
    },
    {
     "data": {
      "text/html": [
       "<div>\n",
       "<style scoped>\n",
       "    .dataframe tbody tr th:only-of-type {\n",
       "        vertical-align: middle;\n",
       "    }\n",
       "\n",
       "    .dataframe tbody tr th {\n",
       "        vertical-align: top;\n",
       "    }\n",
       "\n",
       "    .dataframe thead th {\n",
       "        text-align: right;\n",
       "    }\n",
       "</style>\n",
       "<table border=\"1\" class=\"dataframe\">\n",
       "  <thead>\n",
       "    <tr style=\"text-align: right;\">\n",
       "      <th></th>\n",
       "      <th>cla_pl_active_last_dt</th>\n",
       "      <th>prl_client_app_income_amt</th>\n",
       "      <th>sd_age_mnth_comp_nv</th>\n",
       "      <th>crd_lst_agrmnt_osb_cd</th>\n",
       "      <th>dep_inf_payroll_rub_amt</th>\n",
       "      <th>lne_tot_issued_ever_rub_amt</th>\n",
       "      <th>pnl_oi_td_amt</th>\n",
       "      <th>seg_client_rb_segment_cd</th>\n",
       "      <th>lne_pl_clsd_wavg_intr_rate</th>\n",
       "      <th>predict_prob</th>\n",
       "      <th>target</th>\n",
       "      <th>client_dk</th>\n",
       "      <th>report_dt</th>\n",
       "    </tr>\n",
       "  </thead>\n",
       "  <tbody>\n",
       "    <tr>\n",
       "      <th>0</th>\n",
       "      <td>-99999.0</td>\n",
       "      <td>250000.0</td>\n",
       "      <td>626.0</td>\n",
       "      <td>89</td>\n",
       "      <td>26100.0</td>\n",
       "      <td>-99999.0</td>\n",
       "      <td>12282.33</td>\n",
       "      <td>2</td>\n",
       "      <td>-99999.0</td>\n",
       "      <td>0.042258</td>\n",
       "      <td>0</td>\n",
       "      <td>-1</td>\n",
       "      <td>2022-01-31</td>\n",
       "    </tr>\n",
       "    <tr>\n",
       "      <th>1</th>\n",
       "      <td>722.0</td>\n",
       "      <td>-99999.0</td>\n",
       "      <td>429.0</td>\n",
       "      <td>42</td>\n",
       "      <td>-99999.0</td>\n",
       "      <td>274000.0</td>\n",
       "      <td>-99999.00</td>\n",
       "      <td>2</td>\n",
       "      <td>-99999.0</td>\n",
       "      <td>0.122197</td>\n",
       "      <td>0</td>\n",
       "      <td>408825168</td>\n",
       "      <td>2020-11-30</td>\n",
       "    </tr>\n",
       "  </tbody>\n",
       "</table>\n",
       "</div>"
      ],
      "text/plain": [
       "   cla_pl_active_last_dt  prl_client_app_income_amt  sd_age_mnth_comp_nv  \\\n",
       "0               -99999.0                   250000.0                626.0   \n",
       "1                  722.0                   -99999.0                429.0   \n",
       "\n",
       "   crd_lst_agrmnt_osb_cd  dep_inf_payroll_rub_amt  \\\n",
       "0                     89                  26100.0   \n",
       "1                     42                 -99999.0   \n",
       "\n",
       "   lne_tot_issued_ever_rub_amt  pnl_oi_td_amt  seg_client_rb_segment_cd  \\\n",
       "0                     -99999.0       12282.33                         2   \n",
       "1                     274000.0      -99999.00                         2   \n",
       "\n",
       "   lne_pl_clsd_wavg_intr_rate  predict_prob  target  client_dk   report_dt  \n",
       "0                    -99999.0      0.042258       0         -1  2022-01-31  \n",
       "1                    -99999.0      0.122197       0  408825168  2020-11-30  "
      ]
     },
     "metadata": {},
     "output_type": "display_data"
    }
   ],
   "source": [
    "data = pd.read_csv('data_pl/all_data_loan_pl_test_oos.csv')\n",
    "y = data['target']\n",
    "X = data[features_cur]\n",
    "cat_f, numeric_f, date_f = types(X)\n",
    "X = transform_data(X, cat_f, numeric_f, date_f)\n",
    "#----------------------------------------------------------------------------\n",
    "y_pred = (model_сur.predict_proba(X)[:,1] > my_threshold)*1 #model.predict(X_test)\n",
    "y_pr_prob = model_сur.predict_proba(X)[:,1]\n",
    "print( '\\nconfusion matrix: \\n', confusion_matrix(y, y_pred) )\n",
    "print( '\\nauc: ', round(roc_auc_score(y, y_pr_prob), 4) )\n",
    "print( 'gini: {:.2f}'.format(  round(roc_auc_score(y, y_pr_prob)*2-1,4)  ) )\n",
    "print( 'f1: ', round(f1_score(y, y_pred), 4) )\n",
    "#----------------------------------------------------------------------------\n",
    "X['predict_prob'] = y_pr_prob\n",
    "X['target'] = y\n",
    "X['client_dk'] = data['client_dk']\n",
    "X['report_dt'] = data['report_dt']\n",
    "#----------------------------------------------------------------------------\n",
    "X.to_csv('data_pl/validation_predict_oot.csv', index=False)\n",
    "display(X.head(2))"
   ]
  },
  {
   "cell_type": "markdown",
   "metadata": {},
   "source": [
    "# обучение на всей выборке и сохранение модели"
   ]
  },
  {
   "cell_type": "markdown",
   "metadata": {},
   "source": [
    "##### downsampling для OOT-выборки"
   ]
  },
  {
   "cell_type": "code",
   "execution_count": 52,
   "metadata": {
    "ExecuteTime": {
     "end_time": "2022-11-22T12:15:47.193831Z",
     "start_time": "2022-11-22T12:15:46.357229Z"
    }
   },
   "outputs": [
    {
     "name": "stdout",
     "output_type": "stream",
     "text": [
      "доля целевых событий:  0.014 \n",
      "\n",
      "сократим кол-во наблюдений с негативными целевыми событиями\n",
      "0.1 :  41400\n",
      "уменьшим их кол-во с 291349 до 41400\n",
      "\n",
      "размер новой таблицы:  (41400, 362)\n",
      "доля целевых событий:  0.1 \n",
      "\n"
     ]
    }
   ],
   "source": [
    "print('доля целевых событий: ', round(data_test['target'].mean(), 4), '\\n')\n",
    "print('сократим кол-во наблюдений с негативными целевыми событиями')\n",
    "data_test = data_test.sort_values(['report_dt', 'target'], axis=0)\n",
    "\n",
    "data_1 = data_test[data_test['target']==1]\n",
    "data_0 = data_test[data_test['target']==0]\n",
    "n_1 = data_test['target'].sum()  #кол-во наблюдений с целевым событием\n",
    "\n",
    "for i in np.arange(0.1, 0.5, 0.01):\n",
    "    n = int(n_1/i) #новый размер выборки, обеспечивающий указанную долю i\n",
    "    print(round(i,2), ': ', n)\n",
    "    if n <= 6e6: break #ограничение выборки ←←←←← !!!!!!!!\n",
    "        \n",
    "print( 'уменьшим их кол-во с {} до {}'.format(data_0.shape[0],n) )\n",
    "\n",
    "np.random.seed(5)\n",
    "indexes = np.random.choice(range(len(data_0)), int(n-n_1), replace=False)\n",
    "data_0 = data_0.iloc[ indexes ]\n",
    "data_0.index = range(len(data_0))\n",
    "data_test_dwnsmp = pd.concat([data_1, data_0], axis=0)\n",
    "print('\\nразмер новой таблицы: ', data_test_dwnsmp.shape)\n",
    "print('доля целевых событий: ', round(data_test_dwnsmp['target'].mean(), 4), '\\n')"
   ]
  },
  {
   "cell_type": "code",
   "execution_count": 53,
   "metadata": {
    "ExecuteTime": {
     "end_time": "2022-11-22T12:18:50.838183Z",
     "start_time": "2022-11-22T12:16:00.680931Z"
    }
   },
   "outputs": [
    {
     "name": "stdout",
     "output_type": "stream",
     "text": [
      "Fitting 4 folds for each of 30 candidates, totalling 120 fits\n"
     ]
    },
    {
     "name": "stderr",
     "output_type": "stream",
     "text": [
      "[Parallel(n_jobs=4)]: Using backend LokyBackend with 4 concurrent workers.\n",
      "[Parallel(n_jobs=4)]: Done  42 tasks      | elapsed:  1.0min\n",
      "[Parallel(n_jobs=4)]: Done 120 out of 120 | elapsed:  2.5min finished\n"
     ]
    }
   ],
   "source": [
    "with open('data_pl/features.pickle', 'rb') as f:\n",
    "    features_cur = pickle.load(f)\n",
    "features_cur = list(features_cur)\n",
    "\n",
    "data_0 = pd.concat([data_train[['report_dt', 'epk_client_idid', 'target']+features_cur],\n",
    "                    data_val[['report_dt', 'client_id', 'target']+features_cur],\n",
    "                    data_test_dwnsmp[['report_dt', 'client_id', 'target']+features_cur]\n",
    "                   ])\n",
    "X, y = data_0[features_cur], data_0['target']\n",
    "\n",
    "#------------------------------------------------------------------------------------------------\n",
    "categories_index = [i for i in range(len(X[features_cur].columns)) if X[features_cur].columns[i] in cat_f]\n",
    "if len(categories_index) == 0: categories_index='auto'\n",
    "#------------------------------------------------------------------------------------------------\n",
    "model = LGBMClassifier(random_state=123, n_jobs=-1) \n",
    "param_grid = {  'subsample': np.arange(0.5, 1.01, 0.1),\n",
    "                'reg_lambda': np.arange(0.05,0.7,0.05),       \n",
    "                'n_estimators': np.arange(50,250,10),    \n",
    "                'max_depth': np.arange(3,8,1),                \n",
    "                'learning_rate': np.arange(0.05,0.7,0.05),               \n",
    "                'is_unbalance': [False,True]\n",
    "             }\n",
    "fit_params = {'categorical_feature': categories_index}\n",
    "#------------------------------------------------------------------------------------------------\n",
    "# cv = ShuffleSplit(n_splits=4, test_size=0.2, random_state=123)\n",
    "# cv = GroupKFold(n_splits=fold_count).split(X[features_cur], y, groups)\n",
    "cv = TimeSeriesSplit(n_splits=4)\n",
    "#------------------------------------------------------------------------------------------------\n",
    "grid = RandomizedSearchCV(model, param_distributions=param_grid, cv=cv, scoring='f1', n_iter=30, n_jobs=4, verbose=1, random_state=123) #fit_params=fit_params, \n",
    "grid.fit(X[features_cur], np.array(y).ravel())\n",
    "\n",
    "model = grid.best_estimator_\n",
    "\n",
    "with open('data_pl/final_model.pickle', 'wb') as f:\n",
    "    pickle.dump(model, f)\n",
    "# #------------------------------------------------------------------------------------------------    \n",
    "model_sigmoid = CalibratedClassifierCV(model, cv='prefit', method='isotonic') #method: 'sigmoid' or 'isotonic'\n",
    "model_sigmoid.fit(X[features_cur], y)\n",
    "with open('data_pl/calibr_final_model.pickle', 'wb') as f:\n",
    "    pickle.dump(model_sigmoid, f)"
   ]
  }
 ],
 "metadata": {
  "hide_input": false,
  "kernelspec": {
   "display_name": "Python 3 (ipykernel)",
   "language": "python",
   "name": "python3"
  },
  "language_info": {
   "codemirror_mode": {
    "name": "ipython",
    "version": 3
   },
   "file_extension": ".py",
   "mimetype": "text/x-python",
   "name": "python",
   "nbconvert_exporter": "python",
   "pygments_lexer": "ipython3",
   "version": "3.8.10"
  },
  "notify_time": "0",
  "toc": {
   "base_numbering": 1,
   "nav_menu": {},
   "number_sections": true,
   "sideBar": true,
   "skip_h1_title": false,
   "title_cell": "Table of Contents",
   "title_sidebar": "Contents",
   "toc_cell": false,
   "toc_position": {
    "height": "1124px",
    "left": "55px",
    "top": "110px",
    "width": "511.997px"
   },
   "toc_section_display": true,
   "toc_window_display": true
  }
 },
 "nbformat": 4,
 "nbformat_minor": 2
}
