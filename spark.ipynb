{
 "cells": [
  {
   "cell_type": "markdown",
   "metadata": {},
   "source": [
    "# библиотеки + настройка спарка"
   ]
  },
  {
   "cell_type": "code",
   "execution_count": 1,
   "metadata": {
    "ExecuteTime": {
     "end_time": "2023-02-22T13:34:29.566054Z",
     "start_time": "2023-02-22T13:34:29.309308Z"
    },
    "code_folding": [
     0
    ]
   },
   "outputs": [],
   "source": [
    "# from dsps_modules import krb\n",
    "# krb.kinit('df')"
   ]
  },
  {
   "cell_type": "code",
   "execution_count": 2,
   "metadata": {
    "ExecuteTime": {
     "end_time": "2023-02-22T13:34:30.050482Z",
     "start_time": "2023-02-22T13:34:29.749585Z"
    },
    "tags": []
   },
   "outputs": [],
   "source": [
    "import os\n",
    "import sys\n",
    "\n",
    "os.environ['SPARK_MAJOR_VERSION'] = '2'\n",
    "os.environ['SPARK_HOME'] = '/usr/sdp/current/spark2-client/'\n",
    "python_path = '/opt/cloudera/parcels/PYENV.ZNO20008661/bin/python'\n",
    "os.environ['PYSPARK_DRIVER'] = python_path\n",
    "os.environ['PYSPARK_DRIVER_PYTHON'] = python_path\n",
    "os.environ['LD_LIBRARY_PATH'] = '/opt/python/virtualenv/jupyter/lib'\n",
    "\n",
    "sys.path.insert(0, '/usr/sdp/current/spark2-client/python/')\n",
    "\n",
    "sys.path.insert(0, '/usr/sdp/current/spark2-client/python/lib/py4j-0.10.7-src.zip')\n",
    "from pyspark import SparkContext, SparkConf, HiveContext\n",
    "\n",
    "conf = SparkConf().setAppName('XSR')\\\n",
    "    .setMaster(\"yarn\")\\\n",
    "    .set('spark.executor.cores', '5')\\\n",
    "    .set('spark.executor.memory', '21g')\\\n",
    "    .set('spark.executor.memoryOverhead', '4g')\\\n",
    "    .set('spark.driver.memory', '30g')\\\n",
    "    .set('spark.driver.maxResultSize', '30g')\\\n",
    "    .set('spark.hive.mapred.supports.subdirectories', 'true')\\\n",
    "    .set('spark.hadoop.mapreduce.input.fileinputformat.input.dir.recursive', 't')\\\n",
    "    .set('spark.shuffle.service.enabled', 'true')\\\n",
    "    .set('spark.dynamicAllocation.enabled', 'true')\\\n",
    "    .set('spark.dynamicAllocation.executorIdleTimeout', '120s')\\\n",
    "    .set('spark.dynamicAllocation.cachedExecutorIdleTimeout', '600s')\\\n",
    "    .set('spark.dynamicAllocation.initialExecutors', '3')\\\n",
    "    .set('spark.dynamicAllocation.maxExecutors', '32')\\\n",
    "    .set('spark.port.maxRetries', '150')\\\n",
    "    .set('spark.executor.instances', '3')\\\n",
    "    .set('spark.debug.maxToStringFields', '1000')\\\n",
    "    .set('spark.sql.broadcastTimeout', '3600')\n"
   ]
  },
  {
   "cell_type": "code",
   "execution_count": 3,
   "metadata": {
    "ExecuteTime": {
     "end_time": "2023-02-22T13:35:03.409193Z",
     "start_time": "2023-02-22T13:34:30.052562Z"
    },
    "scrolled": true,
    "tags": []
   },
   "outputs": [],
   "source": [
    "from pyspark.sql import SparkSession\n",
    "spark = SparkSession.builder\\\n",
    "    .appName(\"denzel-top\")\\\n",
    "    .master(\"yarn-client\")\\\n",
    "    .config(conf=conf)\\\n",
    "    .getOrCreate()"
   ]
  },
  {
   "cell_type": "markdown",
   "metadata": {},
   "source": [
    "# витрина"
   ]
  },
  {
   "cell_type": "code",
   "execution_count": 4,
   "metadata": {
    "ExecuteTime": {
     "end_time": "2023-02-22T13:35:05.427123Z",
     "start_time": "2023-02-22T13:35:03.412243Z"
    },
    "tags": []
   },
   "outputs": [],
   "source": [
    "df = spark.read.table(\"prx_xsr_crm_250722.client_db\")"
   ]
  },
  {
   "cell_type": "markdown",
   "metadata": {},
   "source": [
    "# поиск по epk_id"
   ]
  },
  {
   "cell_type": "code",
   "execution_count": 1,
   "metadata": {
    "ExecuteTime": {
     "end_time": "2023-03-03T15:03:04.174400Z",
     "start_time": "2023-03-03T15:03:04.168365Z"
    }
   },
   "outputs": [],
   "source": [
    "df_epk = df[ (df['act_flg'] == 'Y') & (df['client_id'].isin([  ***** ])) ] \\\n",
    "    .select('col_1', \n",
    "            'col_2', \n",
    "            'col_3') \n",
    "df_epk_pandas = df_epk.toPandas()\n",
    "\n",
    "df_epk_pandas.head(1000)"
   ]
  },
  {
   "cell_type": "markdown",
   "metadata": {},
   "source": [
    "# join разных таблиц"
   ]
  },
  {
   "cell_type": "code",
   "execution_count": null,
   "metadata": {},
   "outputs": [],
   "source": [
    "df_mcc_1 = spark.read.table(\"xsr_txn_card.mcc\")\n",
    "df_mcc_2 = spark.read.table(\"xsr_txn_card.mcc_subgroup\")\n",
    "df_mcc_3 = spark.read.table(\"xsr_txn_card.mcc_group\")\n",
    "\n",
    "df_mcc_temp = df_mcc_1.join(df_mcc_2, df_mcc_1.mcc_subgroup_id == df_mcc_2.mcc_subgroup_id, 'inner')\\\n",
    "                .select('mcc_code', 'mcc_group_id')\n",
    "df_mcc = df_mcc_temp.join(df_mcc_3, df_mcc_temp.mcc_group_id == df_mcc_3.mcc_group_id, 'inner')\\\n",
    "                .select('mcc_code',  'mcc_group_name').cache()\n",
    "\n",
    "a = df_mcc.toPandas()\n",
    "a.head(3)"
   ]
  },
  {
   "cell_type": "markdown",
   "metadata": {},
   "source": [
    "# остановка spark-сессии"
   ]
  },
  {
   "cell_type": "code",
   "execution_count": 6,
   "metadata": {
    "ExecuteTime": {
     "end_time": "2023-02-27T10:57:58.275420Z",
     "start_time": "2023-02-27T10:57:48.888087Z"
    }
   },
   "outputs": [],
   "source": [
    "spark.stop()"
   ]
  }
 ],
 "metadata": {
  "kernelspec": {
   "display_name": "Python 3.5.3 (ZNO0059623792)",
   "language": "python",
   "name": "pyenv.zno0059623792"
  },
  "language_info": {
   "codemirror_mode": {
    "name": "ipython",
    "version": 3
   },
   "file_extension": ".py",
   "mimetype": "text/x-python",
   "name": "python",
   "nbconvert_exporter": "python",
   "pygments_lexer": "ipython3",
   "version": "3.5.3"
  },
  "toc": {
   "base_numbering": 1,
   "nav_menu": {},
   "number_sections": true,
   "sideBar": true,
   "skip_h1_title": false,
   "title_cell": "Table of Contents",
   "title_sidebar": "Contents",
   "toc_cell": false,
   "toc_position": {},
   "toc_section_display": true,
   "toc_window_display": false
  }
 },
 "nbformat": 4,
 "nbformat_minor": 4
}
