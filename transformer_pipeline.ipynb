{
 "cells": [
  {
   "cell_type": "code",
   "execution_count": null,
   "id": "8f41b9c3-88d8-42b4-8ce0-072b52c49e86",
   "metadata": {},
   "outputs": [],
   "source": [
    "import gc\n",
    "\n",
    "import torch\n",
    "from torch.optim import AdamW\n",
    "import torch.nn.functional as F\n",
    "from torch.nn import CrossEntropyLoss\n",
    "from torch.utils.data import TensorDataset, DataLoader\n",
    "torch.manual_seed(73)\n",
    "\n",
    "from datasets import Dataset\n",
    "from transformers import get_cosine_with_hard_restarts_schedule_with_warmup\n",
    "from transformers import AutoTokenizer, AutoModelForSequenceClassification, DataCollatorWithPadding\n",
    "\n",
    "device = torch.device(\"cuda\") if torch.cuda.is_available() else torch.device(\"cpu\")\n",
    "def cleanup():\n",
    "    gc.collect()\n",
    "    torch.cuda.empty_cache()"
   ]
  },
  {
   "cell_type": "markdown",
   "id": "93762b0b-1410-4a47-aab1-aa79c6c948ed",
   "metadata": {},
   "source": [
    "### подгрузка предобученной модели и токенайзера"
   ]
  },
  {
   "cell_type": "code",
   "execution_count": null,
   "id": "3b6a23b1-e4eb-4bb8-8a40-1ef2f82a5f8c",
   "metadata": {},
   "outputs": [],
   "source": [
    "hugging_local_path = '/home/datalab/nfs/pretrained_models/rubert-tiny2_'\n",
    "model = AutoModelForSequenceClassification.from_pretrained(hugging_local_path, local_files_only=True, num_labels=aisc_dataset.target.nunique())\n",
    "model.to(device)\n",
    "tokenizer = AutoTokenizer.from_pretrained(hugging_local_path, local_files_only=True) "
   ]
  },
  {
   "cell_type": "markdown",
   "id": "0dea7542-a18a-45e5-820e-4dda47954c06",
   "metadata": {},
   "source": [
    "### формирование выборок train/valin/test"
   ]
  },
  {
   "cell_type": "code",
   "execution_count": null,
   "id": "70ee1747-d343-436b-96ec-08bc05923fef",
   "metadata": {},
   "outputs": [],
   "source": [
    "# tokenized_texts = tokenizer(df['input'].tolist(), padding=True, truncation=True, return_tensors='pt')\n",
    "# tokenized_texts['labels'] = torch.Tensor(df['target']).int()\n",
    "# data = Dataset.from_dict(tokenized_texts)\n",
    "\n",
    "data = Dataset.from_pandas(df[['input', 'label']])\n",
    "                              \n",
    "data = data.train_test_split(test_size=0.2, shuffle=True, seed=1)\n",
    "data_test = data['test'].train_test_split(test_size=0.5, shuffle=True, seed=1)\n",
    "data['valid'] = data_test['train']\n",
    "data['test'] = data_test['test']\n",
    "data"
   ]
  },
  {
   "cell_type": "markdown",
   "id": "d7931810-a236-4e09-a09e-1374b286571f",
   "metadata": {},
   "source": [
    "### создание DataLoader"
   ]
  },
  {
   "cell_type": "markdown",
   "id": "503c9e98-8baa-4d23-81a5-89da2750390d",
   "metadata": {},
   "source": [
    "##### способ #1"
   ]
  },
  {
   "cell_type": "code",
   "execution_count": null,
   "id": "10ba4e94-1429-4f94-8ec5-38dd4e4b97b2",
   "metadata": {},
   "outputs": [],
   "source": [
    "collator = DataCollatorWithPadding(tokenizer=tokenizer)\n",
    "batch_size = 32\n",
    "train_dataloader = DataLoader(data['train'], batch_size=batch_size, shuffle=True, collate_fn=collator)\n",
    "valid_dataloader = DataLoader(data['valid'], batch_size=batch_size, shuffle=True, collate_fn=collator)\n",
    "test_dataloader = DataLoader(data['test'], batch_size=batch_size, collate_fn=collator)\n",
    "cleanup()"
   ]
  },
  {
   "cell_type": "markdown",
   "id": "9ef6a5dc-45ee-4843-ba06-61b4408ba5e5",
   "metadata": {},
   "source": [
    "##### способ #2"
   ]
  },
  {
   "cell_type": "code",
   "execution_count": null,
   "id": "f4e66e46-adcc-42ad-b12f-8510f2deee8c",
   "metadata": {},
   "outputs": [],
   "source": [
    "def my_collator(batch):\n",
    "    batch_df = pd.DataFrame(batch)\n",
    "    tokenized_texts = tokenizer(batch_df['input'], padding=True, truncation=True, return_tensors='pt')\n",
    "    tokenized_texts['labels'] = torch.Tensor(batch_df['target']).int()\n",
    "    return tokenized_texts\n",
    "\n",
    "\n",
    "batch_size = 32\n",
    "dataloader = DataLoader(data['train'], batch_size=batch_size, collate_fn=my_collator)\n",
    "dataloader = DataLoader(data['valid'], batch_size=batch_size, collate_fn=my_collator)\n",
    "dataloader = DataLoader(data['test'], batch_size=batch_size, collate_fn=my_collator)\n",
    "cleanup()"
   ]
  },
  {
   "cell_type": "markdown",
   "id": "d764a132-35a6-4d7e-af32-eb52a8817b84",
   "metadata": {},
   "source": [
    "##### способ #3"
   ]
  },
  {
   "cell_type": "code",
   "execution_count": null,
   "id": "bba8c408-2969-4f3e-82b7-f2db9728d613",
   "metadata": {},
   "outputs": [],
   "source": [
    "# torch.utils.data.Dataset\n",
    "class CustomDataset(torch.utils.data.Dataset):\n",
    "    def __init__(self, lag_data, ftr_data, labels, tokenizer):\n",
    "        self.lag_data = lag_data\n",
    "        self.ftr_data = ftr_data\n",
    "        self.labels = labels\n",
    "        self.tokenizer = tokenizer\n",
    "        \n",
    "    def __len__(self):\n",
    "        return len(self.lag_data)\n",
    "    \n",
    "    def __getitem__(self, idx):\n",
    "        # print('1')\n",
    "        inp = self.lag_data[idx]\n",
    "        lbl = self.labels[idx]\n",
    "        tokenized_inp = self.tokenizer(inp, padding=True, truncation=True, return_tensors='pt')\n",
    "        return {'input_ids': tokenized_inp['input_ids'].flatten(),\n",
    "                'attention_mask': tokenized_inp['attention_mask'].flatten(),\n",
    "                'labels': torch.Tensor([lbl]).long().squeeze()\n",
    "               }\n",
    "    \n",
    "data = DatasetDict()\n",
    "data['train'] = CustomDataset(df_train['input'].tolist(), df_train['target'].tolist(), tokenizer)\n",
    "data['valid'] = CustomDataset(df_valid['input'].tolist(), df_valid['target'].tolist(), tokenizer)\n",
    "data['test'] = CustomDataset(df_test['input'].tolist(), df_test['target'].tolist(), tokenizer)\n",
    "\n",
    "collator = DataCollatorWithPadding(tokenizer=tokenizer)\n",
    "\n",
    "batch_size = 32\n",
    "train_dataloader = DataLoader(data['train'], batch_size=batch_size, shuffle=True, collate_fn=collator)\n",
    "valid_dataloader = DataLoader(data['valid'], batch_size=batch_size, shuffle=True, collate_fn=collator)\n",
    "test_dataloader = DataLoader(data['test'], batch_size=batch_size, collate_fn=collator)"
   ]
  },
  {
   "cell_type": "markdown",
   "id": "a0c0b9d5-f12b-4e2d-a6fb-1f3b9445fa49",
   "metadata": {
    "execution": {
     "iopub.execute_input": "2024-04-23T06:55:14.721085Z",
     "iopub.status.busy": "2024-04-23T06:55:14.720820Z",
     "iopub.status.idle": "2024-04-23T06:55:14.724003Z",
     "shell.execute_reply": "2024-04-23T06:55:14.723485Z",
     "shell.execute_reply.started": "2024-04-23T06:55:14.721061Z"
    }
   },
   "source": [
    "### обучение модели"
   ]
  },
  {
   "cell_type": "code",
   "execution_count": null,
   "id": "080a5323-c778-436d-a356-6789341d9f79",
   "metadata": {},
   "outputs": [],
   "source": [
    "# ========================================\n",
    "#             Training config\n",
    "# ========================================\n",
    "max_epochs = 10\n",
    "early_stopping_count = 5\n",
    "window = 100\n",
    "model_save_path = '/home/datalab/nfs/data/for_temp_files'\n",
    "model_save_name = 'sgm_type'\n",
    "# ========================================\n",
    "#              LR optimizer\n",
    "# ========================================\n",
    "optimizer = AdamW(model.parameters(), lr=5e-5)\n",
    "num_training_steps =  len(train_dataloader) * max_epochs\n",
    "num_warmup_steps = int(num_training_steps * 0.10)\n",
    "lr_scheduler = get_cosine_with_hard_restarts_schedule_with_warmup(optimizer,\n",
    "                                                                  num_warmup_steps=num_warmup_steps,\n",
    "                                                                  num_training_steps=num_training_steps,\n",
    "                                                                  num_cycles=3)\n",
    "\n",
    "lr_list = []\n",
    "val_losses = []\n",
    "val_best_loss = 9e9\n",
    "for epoch in tqdm(range(max_epochs)):\n",
    "    # ========================================\n",
    "    #                Training\n",
    "    # ========================================\n",
    "    model.train()\n",
    "    tr_tq = tqdm(train_dataloader)\n",
    "    train_loss = 0\n",
    "    train_losses = []\n",
    "    for batch in tr_tq:\n",
    "        outputs = model(**batch.to(model.device))\n",
    "        loss = outputs.loss\n",
    "        loss.backward()\n",
    "        optimizer.step()\n",
    "        lr_scheduler.step()\n",
    "        optimizer.zero_grad()\n",
    "        \n",
    "        lr_list.append(optimizer.param_groups[0]['lr'])\n",
    "        train_loss += loss.item()\n",
    "        train_losses.append(loss.item())\n",
    "        tr_tq.set_description(f'wind loss: {np.mean(train_losses[-window:]):2.2f}')\n",
    "    avg_train_loss = train_loss / len(train_dataloader)\n",
    "    cleanup()\n",
    "    # ========================================\n",
    "    #               Validation\n",
    "    # ========================================\n",
    "    model.eval()\n",
    "    val_loss = 0\n",
    "    vl_tq = tqdm(valid_dataloader)\n",
    "    vl_tq.set_description(f'valid scoring...')\n",
    "    for batch in vl_tq:\n",
    "        with torch.no_grad():\n",
    "            outputs = model(**batch.to(model.device))\n",
    "        val_loss += outputs.loss.item()\n",
    "        \n",
    "    avg_val_loss = val_loss / len(valid_dataloader)\n",
    "    val_losses.append(avg_val_loss)\n",
    "    if avg_val_loss < val_best_loss:\n",
    "        val_best_loss = avg_val_loss\n",
    "    cleanup()\n",
    "    \n",
    "    print(f'epoch {epoch+1}. train loss: {avg_train_loss:4.2f}  val loss: {avg_val_loss:4.2f}')\n",
    "    print('-'*74)\n",
    "    model.save_pretrained(f'{model_save_path}/{model_save_name}_{epoch+1}')\n",
    "    \n",
    "    # ========================================\n",
    "    #              Early stopping\n",
    "    # ========================================\n",
    "    if len(val_losses) > early_stopping_count:\n",
    "        if val_best_loss < min(val_losses[-early_stopping_count:]):\n",
    "            print('\\n!early stopping')\n",
    "            break\n",
    "            \n",
    "# ========================================\n",
    "#               Best model\n",
    "# ========================================\n",
    "best_model_index = np.argmin(val_losses)+1\n",
    "print(f' best model - on {best_model_index}th epoch')\n",
    "\n",
    "# ========================================\n",
    "#                Cleaning\n",
    "# ========================================\n",
    "cleanup()\n",
    "for file_i in glob(f'{model_save_path}/{model_save_name}_*'):\n",
    "    file_epoch = re.findall(\"\\d+\", file_i)[-1]\n",
    "    if int(file_epoch) != best_model_index:\n",
    "        shutil.rmtree(file_i)"
   ]
  },
  {
   "cell_type": "markdown",
   "id": "6660d7e8-d6f5-4e61-b307-ebbb578f9693",
   "metadata": {},
   "source": [
    "### тестирование"
   ]
  },
  {
   "cell_type": "code",
   "execution_count": null,
   "id": "b9038e56-efe2-442d-902c-e10b335c009d",
   "metadata": {},
   "outputs": [],
   "source": [
    "model = AutoModelForSequenceClassification.from_pretrained(f'{model_save_path}/{model_save_name}_{best_model_index}', local_files_only=True)\n",
    "model.to(device)\n",
    "print('model loaded')"
   ]
  },
  {
   "cell_type": "code",
   "execution_count": null,
   "id": "2b82e00d-c548-4965-aae2-fb836eb6a733",
   "metadata": {},
   "outputs": [],
   "source": [
    "model.eval()\n",
    "tst_tq = tqdm(valid_dataloader)\n",
    "tst_tq.set_description(f'test scoring...')\n",
    "true_list = []\n",
    "pred_list = []\n",
    "for batch in tst_tq:\n",
    "    with torch.no_grad():\n",
    "        outputs = model(**batch.to(model.device))\n",
    "    true_values = batch['labels'].tolist()\n",
    "    pred_values = F.softmax(outputs.logits, dim=1).max(dim=1).indices.tolist()\n",
    "    true_list.append(true_values)\n",
    "    pred_list.append(pred_values)\n",
    "        \n",
    "true_list = list(itertools.chain(*true_list))\n",
    "pred_list = list(itertools.chain(*pred_list))"
   ]
  },
  {
   "cell_type": "code",
   "execution_count": null,
   "id": "8d351837-869d-422d-a630-b14afd99a6d2",
   "metadata": {},
   "outputs": [],
   "source": [
    "metrics_df = pd.DataFrame(classification_report(true_list, pred_list, output_dict=True, zero_division=1)).T\n",
    "rev_label_mapping = {str(v):k for k,v in label_mapping.items()}\n",
    "metrics_df['model_class'] = metrics_df.index.map(rev_label_mapping)\n",
    "metrics_df.drop(index='accuracy', inplace=True)\n",
    "metrics_df = metrics_df[['model_class','precision','recall','f1-score','support']]\n",
    "metrics_df"
   ]
  }
 ],
 "metadata": {
  "kernelspec": {
   "display_name": "Python 3",
   "language": "python",
   "name": "python3"
  },
  "language_info": {
   "codemirror_mode": {
    "name": "ipython",
    "version": 3
   },
   "file_extension": ".py",
   "mimetype": "text/x-python",
   "name": "python",
   "nbconvert_exporter": "python",
   "pygments_lexer": "ipython3",
   "version": "3.8.16"
  }
 },
 "nbformat": 4,
 "nbformat_minor": 5
}
